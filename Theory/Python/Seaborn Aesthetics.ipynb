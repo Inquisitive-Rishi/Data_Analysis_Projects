{
 "cells": [
  {
   "cell_type": "markdown",
   "id": "0f6a852a",
   "metadata": {},
   "source": [
    "# Changing Seaborn Aesthetics"
   ]
  },
  {
   "cell_type": "code",
   "execution_count": 1,
   "id": "a12026de",
   "metadata": {},
   "outputs": [],
   "source": [
    "import pandas as pd\n",
    "import matplotlib.pyplot as plt\n",
    "import numpy as np\n",
    "import seaborn as sns"
   ]
  },
  {
   "cell_type": "raw",
   "id": "13fd4849",
   "metadata": {},
   "source": [
    "Available Seaborn Themes:\n",
    "    > Dark\n",
    "    > White\n",
    "    > Whitegrid\n",
    "    > Darkgrid\n",
    "    > Ticks"
   ]
  },
  {
   "cell_type": "markdown",
   "id": "04b4f293",
   "metadata": {},
   "source": [
    "## Customizing styles with set_styles()"
   ]
  },
  {
   "cell_type": "raw",
   "id": "b87d25ce",
   "metadata": {},
   "source": [
    "We've different themes for seaborn within each theme, \n",
    "these are different parts"
   ]
  },
  {
   "cell_type": "raw",
   "id": "8d6a2cf2",
   "metadata": {},
   "source": [
    "We can customize each part of the theme such as:\n",
    "    > gridcolor\n",
    "    > fontsize\n",
    "    > ticks length\n",
    "    etc\n",
    "    \n",
    "Scenario: I like the darkgrid theme, but within that, \n",
    "          I want to change the background color."
   ]
  },
  {
   "cell_type": "code",
   "execution_count": 3,
   "id": "1f8294d4",
   "metadata": {},
   "outputs": [
    {
     "data": {
      "text/plain": [
       "{'axes.facecolor': '#EAEAF2',\n",
       " 'axes.edgecolor': 'white',\n",
       " 'axes.grid': True,\n",
       " 'axes.axisbelow': True,\n",
       " 'axes.labelcolor': '.15',\n",
       " 'figure.facecolor': 'white',\n",
       " 'grid.color': 'white',\n",
       " 'grid.linestyle': '-',\n",
       " 'text.color': '.15',\n",
       " 'xtick.color': '.15',\n",
       " 'ytick.color': '.15',\n",
       " 'xtick.direction': 'out',\n",
       " 'ytick.direction': 'out',\n",
       " 'lines.solid_capstyle': <CapStyle.round: 'round'>,\n",
       " 'patch.edgecolor': 'w',\n",
       " 'patch.force_edgecolor': True,\n",
       " 'image.cmap': 'rocket',\n",
       " 'font.family': ['sans-serif'],\n",
       " 'font.sans-serif': ['Arial',\n",
       "  'DejaVu Sans',\n",
       "  'Liberation Sans',\n",
       "  'Bitstream Vera Sans',\n",
       "  'sans-serif'],\n",
       " 'xtick.bottom': False,\n",
       " 'xtick.top': False,\n",
       " 'ytick.left': False,\n",
       " 'ytick.right': False,\n",
       " 'axes.spines.left': True,\n",
       " 'axes.spines.bottom': True,\n",
       " 'axes.spines.right': True,\n",
       " 'axes.spines.top': True}"
      ]
     },
     "execution_count": 3,
     "metadata": {},
     "output_type": "execute_result"
    }
   ],
   "source": [
    "# To view different customizable options without a theme.\n",
    "sns.axes_style()"
   ]
  },
  {
   "cell_type": "code",
   "execution_count": null,
   "id": "9785d172",
   "metadata": {},
   "outputs": [],
   "source": [
    "# each theme has their own axis_length()\n",
    "# Setting a theme, and overriding existing(default) option."
   ]
  },
  {
   "cell_type": "code",
   "execution_count": 6,
   "id": "65f54b6b",
   "metadata": {},
   "outputs": [],
   "source": [
    "sns.set_style(\"darkgrid\",{\"axis.facecolor\":\"orange\",\n",
    "                         \"grid.color\":\"white\"})"
   ]
  },
  {
   "cell_type": "code",
   "execution_count": 11,
   "id": "4f125515",
   "metadata": {},
   "outputs": [
    {
     "data": {
      "text/html": [
       "<div>\n",
       "<style scoped>\n",
       "    .dataframe tbody tr th:only-of-type {\n",
       "        vertical-align: middle;\n",
       "    }\n",
       "\n",
       "    .dataframe tbody tr th {\n",
       "        vertical-align: top;\n",
       "    }\n",
       "\n",
       "    .dataframe thead th {\n",
       "        text-align: right;\n",
       "    }\n",
       "</style>\n",
       "<table border=\"1\" class=\"dataframe\">\n",
       "  <thead>\n",
       "    <tr style=\"text-align: right;\">\n",
       "      <th></th>\n",
       "      <th>total_bill</th>\n",
       "      <th>tip</th>\n",
       "      <th>sex</th>\n",
       "      <th>smoker</th>\n",
       "      <th>day</th>\n",
       "      <th>time</th>\n",
       "      <th>size</th>\n",
       "    </tr>\n",
       "  </thead>\n",
       "  <tbody>\n",
       "    <tr>\n",
       "      <th>0</th>\n",
       "      <td>16.99</td>\n",
       "      <td>1.01</td>\n",
       "      <td>Female</td>\n",
       "      <td>No</td>\n",
       "      <td>Sun</td>\n",
       "      <td>Dinner</td>\n",
       "      <td>2</td>\n",
       "    </tr>\n",
       "    <tr>\n",
       "      <th>1</th>\n",
       "      <td>10.34</td>\n",
       "      <td>1.66</td>\n",
       "      <td>Male</td>\n",
       "      <td>No</td>\n",
       "      <td>Sun</td>\n",
       "      <td>Dinner</td>\n",
       "      <td>3</td>\n",
       "    </tr>\n",
       "    <tr>\n",
       "      <th>2</th>\n",
       "      <td>21.01</td>\n",
       "      <td>3.50</td>\n",
       "      <td>Male</td>\n",
       "      <td>No</td>\n",
       "      <td>Sun</td>\n",
       "      <td>Dinner</td>\n",
       "      <td>3</td>\n",
       "    </tr>\n",
       "    <tr>\n",
       "      <th>3</th>\n",
       "      <td>23.68</td>\n",
       "      <td>3.31</td>\n",
       "      <td>Male</td>\n",
       "      <td>No</td>\n",
       "      <td>Sun</td>\n",
       "      <td>Dinner</td>\n",
       "      <td>2</td>\n",
       "    </tr>\n",
       "    <tr>\n",
       "      <th>4</th>\n",
       "      <td>24.59</td>\n",
       "      <td>3.61</td>\n",
       "      <td>Female</td>\n",
       "      <td>No</td>\n",
       "      <td>Sun</td>\n",
       "      <td>Dinner</td>\n",
       "      <td>4</td>\n",
       "    </tr>\n",
       "  </tbody>\n",
       "</table>\n",
       "</div>"
      ],
      "text/plain": [
       "   total_bill   tip     sex smoker  day    time  size\n",
       "0       16.99  1.01  Female     No  Sun  Dinner     2\n",
       "1       10.34  1.66    Male     No  Sun  Dinner     3\n",
       "2       21.01  3.50    Male     No  Sun  Dinner     3\n",
       "3       23.68  3.31    Male     No  Sun  Dinner     2\n",
       "4       24.59  3.61  Female     No  Sun  Dinner     4"
      ]
     },
     "execution_count": 11,
     "metadata": {},
     "output_type": "execute_result"
    }
   ],
   "source": [
    "tips = sns.load_dataset(\"tips\")\n",
    "tips.head()"
   ]
  },
  {
   "cell_type": "code",
   "execution_count": 13,
   "id": "feb9aa7a",
   "metadata": {},
   "outputs": [
    {
     "data": {
      "text/plain": [
       "<Axes: xlabel='total_bill', ylabel='tip'>"
      ]
     },
     "execution_count": 13,
     "metadata": {},
     "output_type": "execute_result"
    },
    {
     "data": {
      "image/png": "[encoded data removed]",
      "text/plain": [
       "<Figure size 640x480 with 1 Axes>"
      ]
     },
     "metadata": {},
     "output_type": "display_data"
    }
   ],
   "source": [
    "# We plot a new graph to see a new change\n",
    "sns.scatterplot(data=tips,x=\"total_bill\",y=\"tip\")"
   ]
  },
  {
   "cell_type": "raw",
   "id": "5b3aa8b8",
   "metadata": {},
   "source": [
    "> To stop this, to start fresh just sns.set_style(\"darkgrid\")"
   ]
  },
  {
   "cell_type": "markdown",
   "id": "eb97ee5c",
   "metadata": {},
   "source": [
    "## Altering spine using despine()"
   ]
  },
  {
   "cell_type": "raw",
   "id": "fba0694b",
   "metadata": {},
   "source": [
    "> We can remove or add spine individually using despine()"
   ]
  },
  {
   "cell_type": "code",
   "execution_count": 18,
   "id": "e3dee60a",
   "metadata": {},
   "outputs": [],
   "source": [
    "sns.set_style(\"white\")\n",
    "# This seaborn theme makes spine look obvious"
   ]
  },
  {
   "cell_type": "code",
   "execution_count": 21,
   "id": "102db844",
   "metadata": {},
   "outputs": [
    {
     "data": {
      "image/png": "[encoded data removed]",
      "text/plain": [
       "<Figure size 640x480 with 1 Axes>"
      ]
     },
     "metadata": {},
     "output_type": "display_data"
    }
   ],
   "source": [
    "sns.histplot(data=tips,x=\"total_bill\")"
   ]
  },
  {
   "cell_type": "code",
   "execution_count": 22,
   "id": "6b6ae80e",
   "metadata": {},
   "outputs": [
    {
     "data": {
      "image/png": "[encoded data removed]",
      "text/plain": [
       "<Figure size 640x480 with 1 Axes>"
      ]
     },
     "metadata": {},
     "output_type": "display_data"
    }
   ],
   "source": [
    "# To remove all spine except top below the plot code, we add\n",
    "sns.histplot(data=tips,x=\"total_bill\")\n",
    "sns.despine(bottom=True,left=True,top=False)"
   ]
  },
  {
   "cell_type": "markdown",
   "id": "f5e72d14",
   "metadata": {},
   "source": [
    "## Seaborn Palette"
   ]
  },
  {
   "cell_type": "raw",
   "id": "a0ce9945",
   "metadata": {},
   "source": [
    "Palette are set of colors that we an apply to seaborn plots"
   ]
  },
  {
   "cell_type": "raw",
   "id": "1de39edd",
   "metadata": {},
   "source": [
    "To see all the available Seaborn palette, we've to create an error\n",
    "This error displays all seaborn palette"
   ]
  },
  {
   "cell_type": "code",
   "execution_count": 28,
   "id": "c3ca6991",
   "metadata": {},
   "outputs": [
    {
     "ename": "SyntaxError",
     "evalue": "invalid character '’' (U+2019) (2790678826.py, line 1)",
     "output_type": "error",
     "traceback": [
      "\u001b[1;36m  Cell \u001b[1;32mIn[28], line 1\u001b[1;36m\u001b[0m\n\u001b[1;33m    sns.pairplot(df, hue=’age_group’, palette=’d’)\u001b[0m\n\u001b[1;37m                         ^\u001b[0m\n\u001b[1;31mSyntaxError\u001b[0m\u001b[1;31m:\u001b[0m invalid character '’' (U+2019)\n"
     ]
    }
   ],
   "source": [
    "sns.pairplot(df, hue=’age_group’, palette=’d’)\n",
    "# It's not showing an error right now "
   ]
  },
  {
   "cell_type": "raw",
   "id": "c9aa4d9a",
   "metadata": {},
   "source": [
    "Here's the list:\n",
    "\n",
    "            [‘Accent’, ‘Accent_r’, ‘Blues’, ‘Blues_r’, ‘BrBG’, ‘BrBG_r’, ‘BuGn’, ‘BuGn_r’, ‘BuPu’, ‘BuPu_r’, \n",
    " ‘CMRmap’, ‘CMRmap_r’, ‘Dark2’, ‘Dark2_r’, ‘GnBu’, ‘GnBu_r’, ‘Greens’, ‘Greens_r’, ‘Greys’, ‘Greys_r’, ‘OrRd’, \n",
    " ‘OrRd_r’, ‘Oranges’, ‘Oranges_r’, ‘PRGn’, ‘PRGn_r’, ‘Paired’, ‘Paired_r’, ‘Pastel1’, \n",
    " ‘Pastel1_r’, ‘Pastel2’, ‘Pastel2_r’, ‘PiYG’, ‘PiYG_r’, ‘PuBu’, ‘PuBuGn’, ‘PuBuGn_r’, \n",
    " ‘PuBu_r’, ‘PuOr’, ‘PuOr_r’, ‘PuRd’, ‘PuRd_r’, ‘Purples’, ‘Purples_r’, ‘RdBu’, ‘RdBu_r’, \n",
    " ‘RdGy’, ‘RdGy_r’, ‘RdPu’, ‘RdPu_r’, ‘RdYlBu’, ‘RdYlBu_r’, ‘RdYlGn’, ‘RdYlGn_r’, ‘Reds’, \n",
    " ‘Reds_r’, ‘Set1’, ‘Set1_r’, ‘Set2’, ‘Set2_r’, ‘Set3’, ‘Set3_r’, ‘Spectral’, ‘Spectral_r’, \n",
    " ‘Wistia’, ‘Wistia_r’, ‘YlGn’, ‘YlGnBu’, ‘YlGnBu_r’, ‘YlGn_r’, ‘YlOrBr’, ‘YlOrBr_r’, ‘YlOrRd’, \n",
    " ‘YlOrRd_r’, ‘afmhot’, ‘afmhot_r’, ‘autumn’, ‘autumn_r’, ‘binary’, ‘binary_r’, ‘bone’, \n",
    " ‘bone_r’, ‘brg’, ‘brg_r’, ‘bwr’, ‘bwr_r’, ‘cividis’, ‘cividis_r’, ‘cool’, ‘cool_r’, ‘coolwarm’, ‘coolwarm_r’, ‘copper’, ‘copper_r’,\n",
    " ‘cubehelix’, ‘cubehelix_r’, ‘flag’, ‘flag_r’, ‘gist_earth’, ‘gist_earth_r’, ‘gist_gray’, ‘gist_gray_r’, ‘gist_heat’, ‘gist_heat_r’, ‘gist_ncar’, ‘gist_ncar_r’,\n",
    " ‘gist_rainbow’, ‘gist_rainbow_r’, ‘gist_stern’, ‘gist_stern_r’, ‘gist_yarg’, \n",
    " ‘gist_yarg_r’, ‘gnuplot’, ‘gnuplot2’, ‘gnuplot2_r’, ‘gnuplot_r’, ‘gray’, ‘gray_r’,\n",
    " ‘hot’, ‘hot_r’, ‘hsv’, ‘hsv_r’, ‘icefire’, ‘icefire_r’, ‘inferno’, \n",
    " ‘inferno_r’, ‘magma’, ‘magma_r’, ‘mako’, ‘mako_r’, \n",
    " ‘nipy_spectral’, ‘nipy_spectral_r’, ‘ocean’, ‘ocean_r’, ‘pink’, ‘pink_r’,\n",
    " ‘plasma’, ‘plasma_r’, ‘prism’, ‘prism_r’, ‘rainbow’, ‘rainbow_r’,\n",
    " ‘rocket’, ‘rocket_r’, ‘seismic’, ‘seismic_r’, ‘spring’, ‘spring_r’,\n",
    " ‘summer’, ‘summer_r’, ‘tab10’, ‘tab10_r’, ‘tab20’, ‘tab20_r’, ‘tab20b’,\n",
    " ‘tab20b_r’, ‘tab20c’, ‘tab20c_r’, ‘terrain’, ‘terrain_r’, ‘twilight’,\n",
    " ‘twilight_r’, ‘twilight_shifted’, ‘twilight_shifted_r’, ‘viridis’, ‘viridis_r’, ‘vlag’, ‘vlag_r’, ‘winter’, ‘winter_r’]"
   ]
  },
  {
   "cell_type": "code",
   "execution_count": 29,
   "id": "3892bbbb",
   "metadata": {},
   "outputs": [
    {
     "data": {
      "text/html": [
       "<svg  width=\"330\" height=\"55\"><rect x=\"0\" y=\"0\" width=\"55\" height=\"55\" style=\"fill:#dbe9f6;stroke-width:2;stroke:rgb(255,255,255)\"/><rect x=\"55\" y=\"0\" width=\"55\" height=\"55\" style=\"fill:#bad6eb;stroke-width:2;stroke:rgb(255,255,255)\"/><rect x=\"110\" y=\"0\" width=\"55\" height=\"55\" style=\"fill:#89bedc;stroke-width:2;stroke:rgb(255,255,255)\"/><rect x=\"165\" y=\"0\" width=\"55\" height=\"55\" style=\"fill:#539ecd;stroke-width:2;stroke:rgb(255,255,255)\"/><rect x=\"220\" y=\"0\" width=\"55\" height=\"55\" style=\"fill:#2b7bba;stroke-width:2;stroke:rgb(255,255,255)\"/><rect x=\"275\" y=\"0\" width=\"55\" height=\"55\" style=\"fill:#0b559f;stroke-width:2;stroke:rgb(255,255,255)\"/></svg>"
      ],
      "text/plain": [
       "[(0.8584083044982699, 0.9134486735870818, 0.9645674740484429),\n",
       " (0.7309496347558632, 0.8394771241830065, 0.9213225682429834),\n",
       " (0.5356862745098039, 0.746082276047674, 0.8642522106881968),\n",
       " (0.32628988850442137, 0.6186236063052672, 0.802798923490965),\n",
       " (0.16696655132641292, 0.48069204152249134, 0.7291503267973857),\n",
       " (0.044059976931949255, 0.3338869665513264, 0.6244521337946944)]"
      ]
     },
     "execution_count": 29,
     "metadata": {},
     "output_type": "execute_result"
    }
   ],
   "source": [
    "# To view a particular palette\n",
    "sns.color_palette(\"Blues\")"
   ]
  },
  {
   "cell_type": "code",
   "execution_count": 34,
   "id": "95603b5d",
   "metadata": {},
   "outputs": [
    {
     "data": {
      "text/html": [
       "<svg  width=\"1100\" height=\"55\"><rect x=\"0\" y=\"0\" width=\"55\" height=\"55\" style=\"fill:#3182bd;stroke-width:2;stroke:rgb(255,255,255)\"/><rect x=\"55\" y=\"0\" width=\"55\" height=\"55\" style=\"fill:#6baed6;stroke-width:2;stroke:rgb(255,255,255)\"/><rect x=\"110\" y=\"0\" width=\"55\" height=\"55\" style=\"fill:#9ecae1;stroke-width:2;stroke:rgb(255,255,255)\"/><rect x=\"165\" y=\"0\" width=\"55\" height=\"55\" style=\"fill:#c6dbef;stroke-width:2;stroke:rgb(255,255,255)\"/><rect x=\"220\" y=\"0\" width=\"55\" height=\"55\" style=\"fill:#e6550d;stroke-width:2;stroke:rgb(255,255,255)\"/><rect x=\"275\" y=\"0\" width=\"55\" height=\"55\" style=\"fill:#fd8d3c;stroke-width:2;stroke:rgb(255,255,255)\"/><rect x=\"330\" y=\"0\" width=\"55\" height=\"55\" style=\"fill:#fdae6b;stroke-width:2;stroke:rgb(255,255,255)\"/><rect x=\"385\" y=\"0\" width=\"55\" height=\"55\" style=\"fill:#fdd0a2;stroke-width:2;stroke:rgb(255,255,255)\"/><rect x=\"440\" y=\"0\" width=\"55\" height=\"55\" style=\"fill:#31a354;stroke-width:2;stroke:rgb(255,255,255)\"/><rect x=\"495\" y=\"0\" width=\"55\" height=\"55\" style=\"fill:#74c476;stroke-width:2;stroke:rgb(255,255,255)\"/><rect x=\"550\" y=\"0\" width=\"55\" height=\"55\" style=\"fill:#a1d99b;stroke-width:2;stroke:rgb(255,255,255)\"/><rect x=\"605\" y=\"0\" width=\"55\" height=\"55\" style=\"fill:#c7e9c0;stroke-width:2;stroke:rgb(255,255,255)\"/><rect x=\"660\" y=\"0\" width=\"55\" height=\"55\" style=\"fill:#756bb1;stroke-width:2;stroke:rgb(255,255,255)\"/><rect x=\"715\" y=\"0\" width=\"55\" height=\"55\" style=\"fill:#9e9ac8;stroke-width:2;stroke:rgb(255,255,255)\"/><rect x=\"770\" y=\"0\" width=\"55\" height=\"55\" style=\"fill:#bcbddc;stroke-width:2;stroke:rgb(255,255,255)\"/><rect x=\"825\" y=\"0\" width=\"55\" height=\"55\" style=\"fill:#dadaeb;stroke-width:2;stroke:rgb(255,255,255)\"/><rect x=\"880\" y=\"0\" width=\"55\" height=\"55\" style=\"fill:#636363;stroke-width:2;stroke:rgb(255,255,255)\"/><rect x=\"935\" y=\"0\" width=\"55\" height=\"55\" style=\"fill:#969696;stroke-width:2;stroke:rgb(255,255,255)\"/><rect x=\"990\" y=\"0\" width=\"55\" height=\"55\" style=\"fill:#bdbdbd;stroke-width:2;stroke:rgb(255,255,255)\"/><rect x=\"1045\" y=\"0\" width=\"55\" height=\"55\" style=\"fill:#d9d9d9;stroke-width:2;stroke:rgb(255,255,255)\"/></svg>"
      ],
      "text/plain": [
       "[(0.19215686274509805, 0.5098039215686274, 0.7411764705882353),\n",
       " (0.4196078431372549, 0.6823529411764706, 0.8392156862745098),\n",
       " (0.6196078431372549, 0.792156862745098, 0.8823529411764706),\n",
       " (0.7764705882352941, 0.8588235294117647, 0.9372549019607843),\n",
       " (0.9019607843137255, 0.3333333333333333, 0.050980392156862744),\n",
       " (0.9921568627450981, 0.5529411764705883, 0.23529411764705882),\n",
       " (0.9921568627450981, 0.6823529411764706, 0.4196078431372549),\n",
       " (0.9921568627450981, 0.8156862745098039, 0.6352941176470588),\n",
       " (0.19215686274509805, 0.6392156862745098, 0.32941176470588235),\n",
       " (0.4549019607843137, 0.7686274509803922, 0.4627450980392157),\n",
       " (0.6313725490196078, 0.8509803921568627, 0.6078431372549019),\n",
       " (0.7803921568627451, 0.9137254901960784, 0.7529411764705882),\n",
       " (0.4588235294117647, 0.4196078431372549, 0.6941176470588235),\n",
       " (0.6196078431372549, 0.6039215686274509, 0.7843137254901961),\n",
       " (0.7372549019607844, 0.7411764705882353, 0.8627450980392157),\n",
       " (0.8549019607843137, 0.8549019607843137, 0.9215686274509803),\n",
       " (0.38823529411764707, 0.38823529411764707, 0.38823529411764707),\n",
       " (0.5882352941176471, 0.5882352941176471, 0.5882352941176471),\n",
       " (0.7411764705882353, 0.7411764705882353, 0.7411764705882353),\n",
       " (0.8509803921568627, 0.8509803921568627, 0.8509803921568627)]"
      ]
     },
     "execution_count": 34,
     "metadata": {},
     "output_type": "execute_result"
    }
   ],
   "source": [
    "sns.color_palette(\"tab20c\")"
   ]
  },
  {
   "cell_type": "raw",
   "id": "89fff4f3",
   "metadata": {},
   "source": [
    "We can control the no:of color to be displayed in palette"
   ]
  },
  {
   "cell_type": "code",
   "execution_count": 37,
   "id": "46fe0437",
   "metadata": {},
   "outputs": [
    {
     "data": {
      "text/html": [
       "<svg  width=\"715\" height=\"55\"><rect x=\"0\" y=\"0\" width=\"55\" height=\"55\" style=\"fill:#1b63c9;stroke-width:2;stroke:rgb(255,255,255)\"/><rect x=\"55\" y=\"0\" width=\"55\" height=\"55\" style=\"fill:#0393f9;stroke-width:2;stroke:rgb(255,255,255)\"/><rect x=\"110\" y=\"0\" width=\"55\" height=\"55\" style=\"fill:#00b8a0;stroke-width:2;stroke:rgb(255,255,255)\"/><rect x=\"165\" y=\"0\" width=\"55\" height=\"55\" style=\"fill:#25d36d;stroke-width:2;stroke:rgb(255,255,255)\"/><rect x=\"220\" y=\"0\" width=\"55\" height=\"55\" style=\"fill:#6de27c;stroke-width:2;stroke:rgb(255,255,255)\"/><rect x=\"275\" y=\"0\" width=\"55\" height=\"55\" style=\"fill:#b5f08a;stroke-width:2;stroke:rgb(255,255,255)\"/><rect x=\"330\" y=\"0\" width=\"55\" height=\"55\" style=\"fill:#fefe98;stroke-width:2;stroke:rgb(255,255,255)\"/><rect x=\"385\" y=\"0\" width=\"55\" height=\"55\" style=\"fill:#dad085;stroke-width:2;stroke:rgb(255,255,255)\"/><rect x=\"440\" y=\"0\" width=\"55\" height=\"55\" style=\"fill:#b6a272;stroke-width:2;stroke:rgb(255,255,255)\"/><rect x=\"495\" y=\"0\" width=\"55\" height=\"55\" style=\"fill:#92735e;stroke-width:2;stroke:rgb(255,255,255)\"/><rect x=\"550\" y=\"0\" width=\"55\" height=\"55\" style=\"fill:#93756e;stroke-width:2;stroke:rgb(255,255,255)\"/><rect x=\"605\" y=\"0\" width=\"55\" height=\"55\" style=\"fill:#b7a39f;stroke-width:2;stroke:rgb(255,255,255)\"/><rect x=\"660\" y=\"0\" width=\"55\" height=\"55\" style=\"fill:#dbd1cf;stroke-width:2;stroke:rgb(255,255,255)\"/></svg>"
      ],
      "text/plain": [
       "[(0.10588235294117648, 0.388235294117647, 0.788235294117647),\n",
       " (0.011764705882352955, 0.5764705882352941, 0.9764705882352941),\n",
       " (0.0, 0.7235294117647059, 0.6294117647058823),\n",
       " (0.1450980392156863, 0.8290196078431373, 0.42901960784313725),\n",
       " (0.42745098039215684, 0.8854901960784314, 0.48549019607843136),\n",
       " (0.7098039215686275, 0.9419607843137255, 0.5419607843137255),\n",
       " (0.996078431372549, 0.9949803921568627, 0.5978823529411764),\n",
       " (0.8549019607843137, 0.8142745098039216, 0.5216470588235294),\n",
       " (0.7137254901960787, 0.6335686274509806, 0.4454117647058825),\n",
       " (0.5725490196078431, 0.45286274509803925, 0.36917647058823533),\n",
       " (0.5764705882352941, 0.45788235294117646, 0.43247058823529416),\n",
       " (0.7176470588235294, 0.6385882352941177, 0.6216470588235294),\n",
       " (0.8588235294117648, 0.8192941176470588, 0.8108235294117647)]"
      ]
     },
     "execution_count": 37,
     "metadata": {},
     "output_type": "execute_result"
    }
   ],
   "source": [
    "sns.color_palette(\"terrain\",13)"
   ]
  },
  {
   "cell_type": "code",
   "execution_count": null,
   "id": "f74e2e83",
   "metadata": {},
   "outputs": [],
   "source": [
    "We can set palette:\n",
    "    > Globally\n",
    "    > Individually"
   ]
  },
  {
   "cell_type": "code",
   "execution_count": 40,
   "id": "beb2d488",
   "metadata": {},
   "outputs": [],
   "source": [
    "# To set Globally\n",
    "sns.set_palette(\"icefire\")"
   ]
  },
  {
   "cell_type": "code",
   "execution_count": 41,
   "id": "d46aa57e",
   "metadata": {},
   "outputs": [
    {
     "data": {
      "text/plain": [
       "<Axes: xlabel='day', ylabel='total_bill'>"
      ]
     },
     "execution_count": 41,
     "metadata": {},
     "output_type": "execute_result"
    },
    {
     "data": {
      "image/png": "[encoded data removed]",
      "text/plain": [
       "<Figure size 640x480 with 1 Axes>"
      ]
     },
     "metadata": {},
     "output_type": "display_data"
    }
   ],
   "source": [
    "# To set on individual plots.\n",
    "sns.barplot(data=tips,x=\"day\",y=\"total_bill\",palette=\"Blues\")"
   ]
  },
  {
   "cell_type": "markdown",
   "id": "0122f72b",
   "metadata": {},
   "source": [
    "## To set on individual plots"
   ]
  },
  {
   "cell_type": "code",
   "execution_count": 43,
   "id": "634386d8",
   "metadata": {},
   "outputs": [
    {
     "data": {
      "text/plain": [
       "<Axes: xlabel='day', ylabel='total_bill'>"
      ]
     },
     "execution_count": 43,
     "metadata": {},
     "output_type": "execute_result"
    },
    {
     "data": {
      "image/png": "[encoded data removed]",
      "text/plain": [
       "<Figure size 640x480 with 1 Axes>"
      ]
     },
     "metadata": {},
     "output_type": "display_data"
    }
   ],
   "source": [
    "sns.barplot(data=tips,x=\"day\",y=\"total_bill\",palette=\"Blues\")"
   ]
  },
  {
   "cell_type": "raw",
   "id": "9e389628",
   "metadata": {},
   "source": [
    "Note: Palette doesn't work on single line. In case of single line, \n",
    "      we use color to change the color of lines"
   ]
  },
  {
   "cell_type": "code",
   "execution_count": 44,
   "id": "318bbd3f",
   "metadata": {},
   "outputs": [
    {
     "name": "stderr",
     "output_type": "stream",
     "text": [
      "C:\\Users\\lenovo\\AppData\\Local\\Temp\\ipykernel_18884\\3424393107.py:1: UserWarning: Ignoring `palette` because no `hue` variable has been assigned.\n",
      "  sns.kdeplot(data=tips,x=\"tip\",palette=\"ocean\")\n"
     ]
    },
    {
     "data": {
      "text/plain": [
       "<Axes: xlabel='tip', ylabel='Density'>"
      ]
     },
     "execution_count": 44,
     "metadata": {},
     "output_type": "execute_result"
    },
    {
     "data": {
      "image/png": "[encoded data removed]",
      "text/plain": [
       "<Figure size 640x480 with 1 Axes>"
      ]
     },
     "metadata": {},
     "output_type": "display_data"
    }
   ],
   "source": [
    "sns.kdeplot(data=tips,x=\"tip\",palette=\"ocean\")"
   ]
  },
  {
   "cell_type": "code",
   "execution_count": 47,
   "id": "7ec10a64",
   "metadata": {},
   "outputs": [
    {
     "data": {
      "text/plain": [
       "<Axes: xlabel='tip', ylabel='Density'>"
      ]
     },
     "execution_count": 47,
     "metadata": {},
     "output_type": "execute_result"
    },
    {
     "data": {
      "image/png": "[encoded data removed]",
      "text/plain": [
       "<Figure size 640x480 with 1 Axes>"
      ]
     },
     "metadata": {},
     "output_type": "display_data"
    }
   ],
   "source": [
    "sns.kdeplot(data=tips,x=\"tip\",color=\"teal\")\n",
    "# this doesn't work"
   ]
  }
 ],
 "metadata": {
  "kernelspec": {
   "display_name": "Python 3 (ipykernel)",
   "language": "python",
   "name": "python3"
  },
  "language_info": {
   "codemirror_mode": {
    "name": "ipython",
    "version": 3
   },
   "file_extension": ".py",
   "mimetype": "text/x-python",
   "name": "python",
   "nbconvert_exporter": "python",
   "pygments_lexer": "ipython3",
   "version": "3.10.9"
  }
 },
 "nbformat": 4,
 "nbformat_minor": 5
}
