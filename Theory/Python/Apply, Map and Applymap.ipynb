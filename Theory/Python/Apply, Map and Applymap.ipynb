{
 "cells": [
  {
   "cell_type": "markdown",
   "id": "46ff1c59",
   "metadata": {},
   "source": [
    "# Apply, Map and Applymap"
   ]
  },
  {
   "cell_type": "code",
   "execution_count": 1,
   "id": "3a5f8fb3",
   "metadata": {},
   "outputs": [],
   "source": [
    "import pandas as pd\n",
    "import numpy as np\n",
    "import matplotlib.pyplot as plt\n",
    "import seaborn as sns"
   ]
  },
  {
   "cell_type": "code",
   "execution_count": 2,
   "id": "b323dc3f",
   "metadata": {},
   "outputs": [],
   "source": [
    "# If we want to create a new column and set value on rows of other column \n",
    "# we use .apply()\n",
    "def ranking_cat(mov):\n",
    "    if mov < 4:\n",
    "        return \"Flop\"\n",
    "    elif mov < 4.5:\n",
    "        return \"Hit\"\n",
    "    elif mov >= 4.5:\n",
    "        return \"Super-Hit\""
   ]
  },
  {
   "cell_type": "code",
   "execution_count": 6,
   "id": "ebccf700",
   "metadata": {},
   "outputs": [
    {
     "data": {
      "text/html": [
       "<div>\n",
       "<style scoped>\n",
       "    .dataframe tbody tr th:only-of-type {\n",
       "        vertical-align: middle;\n",
       "    }\n",
       "\n",
       "    .dataframe tbody tr th {\n",
       "        vertical-align: top;\n",
       "    }\n",
       "\n",
       "    .dataframe thead th {\n",
       "        text-align: right;\n",
       "    }\n",
       "</style>\n",
       "<table border=\"1\" class=\"dataframe\">\n",
       "  <thead>\n",
       "    <tr style=\"text-align: right;\">\n",
       "      <th></th>\n",
       "      <th>Name</th>\n",
       "      <th>Author</th>\n",
       "      <th>User Rating</th>\n",
       "      <th>Reviews</th>\n",
       "      <th>Price</th>\n",
       "      <th>Year</th>\n",
       "      <th>Genre</th>\n",
       "    </tr>\n",
       "  </thead>\n",
       "  <tbody>\n",
       "    <tr>\n",
       "      <th>0</th>\n",
       "      <td>10-Day Green Smoothie Cleanse</td>\n",
       "      <td>JJ Smith</td>\n",
       "      <td>4.7</td>\n",
       "      <td>17350</td>\n",
       "      <td>8</td>\n",
       "      <td>2016</td>\n",
       "      <td>Non Fiction</td>\n",
       "    </tr>\n",
       "    <tr>\n",
       "      <th>1</th>\n",
       "      <td>11/22/63: A Novel</td>\n",
       "      <td>Stephen King</td>\n",
       "      <td>4.6</td>\n",
       "      <td>2052</td>\n",
       "      <td>22</td>\n",
       "      <td>2011</td>\n",
       "      <td>Fiction</td>\n",
       "    </tr>\n",
       "    <tr>\n",
       "      <th>2</th>\n",
       "      <td>12 Rules for Life: An Antidote to Chaos</td>\n",
       "      <td>Jordan B. Peterson</td>\n",
       "      <td>4.7</td>\n",
       "      <td>18979</td>\n",
       "      <td>15</td>\n",
       "      <td>2018</td>\n",
       "      <td>Non Fiction</td>\n",
       "    </tr>\n",
       "    <tr>\n",
       "      <th>3</th>\n",
       "      <td>1984 (Signet Classics)</td>\n",
       "      <td>George Orwell</td>\n",
       "      <td>4.7</td>\n",
       "      <td>21424</td>\n",
       "      <td>6</td>\n",
       "      <td>2017</td>\n",
       "      <td>Fiction</td>\n",
       "    </tr>\n",
       "    <tr>\n",
       "      <th>4</th>\n",
       "      <td>5,000 Awesome Facts (About Everything!) (Natio...</td>\n",
       "      <td>National Geographic Kids</td>\n",
       "      <td>4.8</td>\n",
       "      <td>7665</td>\n",
       "      <td>12</td>\n",
       "      <td>2019</td>\n",
       "      <td>Non Fiction</td>\n",
       "    </tr>\n",
       "  </tbody>\n",
       "</table>\n",
       "</div>"
      ],
      "text/plain": [
       "                                                Name  \\\n",
       "0                      10-Day Green Smoothie Cleanse   \n",
       "1                                  11/22/63: A Novel   \n",
       "2            12 Rules for Life: An Antidote to Chaos   \n",
       "3                             1984 (Signet Classics)   \n",
       "4  5,000 Awesome Facts (About Everything!) (Natio...   \n",
       "\n",
       "                     Author  User Rating  Reviews  Price  Year        Genre  \n",
       "0                  JJ Smith          4.7    17350      8  2016  Non Fiction  \n",
       "1              Stephen King          4.6     2052     22  2011      Fiction  \n",
       "2        Jordan B. Peterson          4.7    18979     15  2018  Non Fiction  \n",
       "3             George Orwell          4.7    21424      6  2017      Fiction  \n",
       "4  National Geographic Kids          4.8     7665     12  2019  Non Fiction  "
      ]
     },
     "execution_count": 6,
     "metadata": {},
     "output_type": "execute_result"
    }
   ],
   "source": [
    "bs = pd.read_csv(\"bestsellers.csv\")\n",
    "bs.head()"
   ]
  },
  {
   "cell_type": "code",
   "execution_count": 9,
   "id": "aa28085b",
   "metadata": {},
   "outputs": [
    {
     "data": {
      "text/plain": [
       "Super-Hit    452\n",
       "Hit           91\n",
       "Flop           7\n",
       "Name: Score_Cat, dtype: int64"
      ]
     },
     "execution_count": 9,
     "metadata": {},
     "output_type": "execute_result"
    }
   ],
   "source": [
    "bs[\"Score_Cat\"]=bs[\"User Rating\"].apply(ranking_cat)\n",
    "bs[\"Score_Cat\"].value_counts()"
   ]
  },
  {
   "cell_type": "markdown",
   "id": "6f991823",
   "metadata": {},
   "source": [
    "## .apply() with 'lambda' and 'arguments'"
   ]
  },
  {
   "cell_type": "markdown",
   "id": "a9429853",
   "metadata": {},
   "source": [
    "## .apply()"
   ]
  },
  {
   "cell_type": "code",
   "execution_count": 11,
   "id": "cda5f1ec",
   "metadata": {
    "scrolled": true
   },
   "outputs": [
    {
     "data": {
      "text/plain": [
       "0       8\n",
       "1      22\n",
       "2      15\n",
       "3       6\n",
       "4      12\n",
       "       ..\n",
       "545     8\n",
       "546     8\n",
       "547     8\n",
       "548     8\n",
       "549     8\n",
       "Name: Price, Length: 550, dtype: int64"
      ]
     },
     "execution_count": 11,
     "metadata": {},
     "output_type": "execute_result"
    }
   ],
   "source": [
    "bs[\"Price\"]"
   ]
  },
  {
   "cell_type": "code",
   "execution_count": 12,
   "id": "5b4bed48",
   "metadata": {},
   "outputs": [],
   "source": [
    "# To convert price from $ to \"₹\" i.e 1$ --> 85₹\n",
    "# We can use lambda or apply()\n",
    "# syntax: .apply(lambda x: f\"{x*85}₹\")"
   ]
  },
  {
   "cell_type": "code",
   "execution_count": 14,
   "id": "baa55bad",
   "metadata": {},
   "outputs": [
    {
     "data": {
      "text/plain": [
       "0       680 ₹\n",
       "1      1870 ₹\n",
       "2      1275 ₹\n",
       "3       510 ₹\n",
       "4      1020 ₹\n",
       "        ...  \n",
       "545     680 ₹\n",
       "546     680 ₹\n",
       "547     680 ₹\n",
       "548     680 ₹\n",
       "549     680 ₹\n",
       "Name: Price, Length: 550, dtype: object"
      ]
     },
     "execution_count": 14,
     "metadata": {},
     "output_type": "execute_result"
    }
   ],
   "source": [
    "bs[\"Price\"].apply(lambda x:f\"{x*85} ₹\")"
   ]
  },
  {
   "cell_type": "markdown",
   "id": "edf7e56a",
   "metadata": {},
   "source": [
    "## args = () / argument"
   ]
  },
  {
   "cell_type": "code",
   "execution_count": 15,
   "id": "1d2ce71a",
   "metadata": {},
   "outputs": [],
   "source": [
    "# We apply a function, then we use .apply() with argument\n",
    "def to_rupee(nums,multiplier):\n",
    "    return f\"{nums*multiplier} ₹\"\n",
    "# Now we will apply this function with an argument i.e args"
   ]
  },
  {
   "cell_type": "code",
   "execution_count": 16,
   "id": "f89feaca",
   "metadata": {},
   "outputs": [
    {
     "data": {
      "text/plain": [
       "0       656 ₹\n",
       "1      1804 ₹\n",
       "2      1230 ₹\n",
       "3       492 ₹\n",
       "4       984 ₹\n",
       "        ...  \n",
       "545     656 ₹\n",
       "546     656 ₹\n",
       "547     656 ₹\n",
       "548     656 ₹\n",
       "549     656 ₹\n",
       "Name: Price, Length: 550, dtype: object"
      ]
     },
     "execution_count": 16,
     "metadata": {},
     "output_type": "execute_result"
    }
   ],
   "source": [
    "bs[\"Price\"].apply(to_rupee,args=(82,))\n",
    "# Here we don't need the argument, as function will automatically take \n",
    "# number from every row as 2nd argument."
   ]
  },
  {
   "cell_type": "markdown",
   "id": "56186c91",
   "metadata": {},
   "source": [
    "# .apply() with Dataframes"
   ]
  },
  {
   "cell_type": "code",
   "execution_count": 18,
   "id": "2846e448",
   "metadata": {},
   "outputs": [
    {
     "data": {
      "text/html": [
       "<div>\n",
       "<style scoped>\n",
       "    .dataframe tbody tr th:only-of-type {\n",
       "        vertical-align: middle;\n",
       "    }\n",
       "\n",
       "    .dataframe tbody tr th {\n",
       "        vertical-align: top;\n",
       "    }\n",
       "\n",
       "    .dataframe thead th {\n",
       "        text-align: right;\n",
       "    }\n",
       "</style>\n",
       "<table border=\"1\" class=\"dataframe\">\n",
       "  <thead>\n",
       "    <tr style=\"text-align: right;\">\n",
       "      <th></th>\n",
       "      <th>User Rating</th>\n",
       "      <th>Reviews</th>\n",
       "      <th>Price</th>\n",
       "      <th>Year</th>\n",
       "    </tr>\n",
       "  </thead>\n",
       "  <tbody>\n",
       "    <tr>\n",
       "      <th>0</th>\n",
       "      <td>4.7</td>\n",
       "      <td>17350</td>\n",
       "      <td>8</td>\n",
       "      <td>2016</td>\n",
       "    </tr>\n",
       "    <tr>\n",
       "      <th>1</th>\n",
       "      <td>4.6</td>\n",
       "      <td>2052</td>\n",
       "      <td>22</td>\n",
       "      <td>2011</td>\n",
       "    </tr>\n",
       "    <tr>\n",
       "      <th>2</th>\n",
       "      <td>4.7</td>\n",
       "      <td>18979</td>\n",
       "      <td>15</td>\n",
       "      <td>2018</td>\n",
       "    </tr>\n",
       "    <tr>\n",
       "      <th>3</th>\n",
       "      <td>4.7</td>\n",
       "      <td>21424</td>\n",
       "      <td>6</td>\n",
       "      <td>2017</td>\n",
       "    </tr>\n",
       "    <tr>\n",
       "      <th>4</th>\n",
       "      <td>4.8</td>\n",
       "      <td>7665</td>\n",
       "      <td>12</td>\n",
       "      <td>2019</td>\n",
       "    </tr>\n",
       "    <tr>\n",
       "      <th>...</th>\n",
       "      <td>...</td>\n",
       "      <td>...</td>\n",
       "      <td>...</td>\n",
       "      <td>...</td>\n",
       "    </tr>\n",
       "    <tr>\n",
       "      <th>545</th>\n",
       "      <td>4.9</td>\n",
       "      <td>9413</td>\n",
       "      <td>8</td>\n",
       "      <td>2019</td>\n",
       "    </tr>\n",
       "    <tr>\n",
       "      <th>546</th>\n",
       "      <td>4.7</td>\n",
       "      <td>14331</td>\n",
       "      <td>8</td>\n",
       "      <td>2016</td>\n",
       "    </tr>\n",
       "    <tr>\n",
       "      <th>547</th>\n",
       "      <td>4.7</td>\n",
       "      <td>14331</td>\n",
       "      <td>8</td>\n",
       "      <td>2017</td>\n",
       "    </tr>\n",
       "    <tr>\n",
       "      <th>548</th>\n",
       "      <td>4.7</td>\n",
       "      <td>14331</td>\n",
       "      <td>8</td>\n",
       "      <td>2018</td>\n",
       "    </tr>\n",
       "    <tr>\n",
       "      <th>549</th>\n",
       "      <td>4.7</td>\n",
       "      <td>14331</td>\n",
       "      <td>8</td>\n",
       "      <td>2019</td>\n",
       "    </tr>\n",
       "  </tbody>\n",
       "</table>\n",
       "<p>550 rows × 4 columns</p>\n",
       "</div>"
      ],
      "text/plain": [
       "     User Rating  Reviews  Price  Year\n",
       "0            4.7    17350      8  2016\n",
       "1            4.6     2052     22  2011\n",
       "2            4.7    18979     15  2018\n",
       "3            4.7    21424      6  2017\n",
       "4            4.8     7665     12  2019\n",
       "..           ...      ...    ...   ...\n",
       "545          4.9     9413      8  2019\n",
       "546          4.7    14331      8  2016\n",
       "547          4.7    14331      8  2017\n",
       "548          4.7    14331      8  2018\n",
       "549          4.7    14331      8  2019\n",
       "\n",
       "[550 rows x 4 columns]"
      ]
     },
     "execution_count": 18,
     "metadata": {},
     "output_type": "execute_result"
    }
   ],
   "source": [
    "# Till now we used .apply() with series only.\n",
    "# Now we'll use .apply() on Dataframe\n",
    "df = bs[[\"User Rating\", \"Reviews\", \"Price\",\"Year\"]]\n",
    "df"
   ]
  },
  {
   "cell_type": "code",
   "execution_count": 19,
   "id": "c165b7a5",
   "metadata": {},
   "outputs": [],
   "source": [
    "def get_range(s):\n",
    "    return s.max() - s.min()"
   ]
  },
  {
   "cell_type": "code",
   "execution_count": 20,
   "id": "c4424039",
   "metadata": {},
   "outputs": [
    {
     "data": {
      "text/plain": [
       "User Rating        1.6\n",
       "Reviews        87804.0\n",
       "Price            105.0\n",
       "Year              10.0\n",
       "dtype: float64"
      ]
     },
     "execution_count": 20,
     "metadata": {},
     "output_type": "execute_result"
    }
   ],
   "source": [
    "df.apply(get_range)"
   ]
  },
  {
   "cell_type": "code",
   "execution_count": null,
   "id": "b52c9395",
   "metadata": {},
   "outputs": [],
   "source": [
    "# By default, .apply() only applies on columns i.e axis = 0\n",
    "# .apply() on axis=1 or on 'rows' is not common"
   ]
  },
  {
   "cell_type": "code",
   "execution_count": 23,
   "id": "df1b2c31",
   "metadata": {},
   "outputs": [
    {
     "data": {
      "text/html": [
       "<div>\n",
       "<style scoped>\n",
       "    .dataframe tbody tr th:only-of-type {\n",
       "        vertical-align: middle;\n",
       "    }\n",
       "\n",
       "    .dataframe tbody tr th {\n",
       "        vertical-align: top;\n",
       "    }\n",
       "\n",
       "    .dataframe thead th {\n",
       "        text-align: right;\n",
       "    }\n",
       "</style>\n",
       "<table border=\"1\" class=\"dataframe\">\n",
       "  <thead>\n",
       "    <tr style=\"text-align: right;\">\n",
       "      <th></th>\n",
       "      <th>pclass</th>\n",
       "      <th>survived</th>\n",
       "      <th>name</th>\n",
       "      <th>sex</th>\n",
       "      <th>age</th>\n",
       "      <th>sibsp</th>\n",
       "      <th>parch</th>\n",
       "      <th>ticket</th>\n",
       "      <th>fare</th>\n",
       "      <th>cabin</th>\n",
       "      <th>embarked</th>\n",
       "      <th>boat</th>\n",
       "      <th>body</th>\n",
       "      <th>home.dest</th>\n",
       "    </tr>\n",
       "  </thead>\n",
       "  <tbody>\n",
       "    <tr>\n",
       "      <th>0</th>\n",
       "      <td>1</td>\n",
       "      <td>1</td>\n",
       "      <td>Allen, Miss. Elisabeth Walton</td>\n",
       "      <td>female</td>\n",
       "      <td>29</td>\n",
       "      <td>0</td>\n",
       "      <td>0</td>\n",
       "      <td>24160</td>\n",
       "      <td>211.3375</td>\n",
       "      <td>B5</td>\n",
       "      <td>S</td>\n",
       "      <td>2</td>\n",
       "      <td>?</td>\n",
       "      <td>St Louis, MO</td>\n",
       "    </tr>\n",
       "    <tr>\n",
       "      <th>1</th>\n",
       "      <td>1</td>\n",
       "      <td>1</td>\n",
       "      <td>Allison, Master. Hudson Trevor</td>\n",
       "      <td>male</td>\n",
       "      <td>0.9167</td>\n",
       "      <td>1</td>\n",
       "      <td>2</td>\n",
       "      <td>113781</td>\n",
       "      <td>151.55</td>\n",
       "      <td>C22 C26</td>\n",
       "      <td>S</td>\n",
       "      <td>11</td>\n",
       "      <td>?</td>\n",
       "      <td>Montreal, PQ / Chesterville, ON</td>\n",
       "    </tr>\n",
       "    <tr>\n",
       "      <th>2</th>\n",
       "      <td>1</td>\n",
       "      <td>0</td>\n",
       "      <td>Allison, Miss. Helen Loraine</td>\n",
       "      <td>female</td>\n",
       "      <td>2</td>\n",
       "      <td>1</td>\n",
       "      <td>2</td>\n",
       "      <td>113781</td>\n",
       "      <td>151.55</td>\n",
       "      <td>C22 C26</td>\n",
       "      <td>S</td>\n",
       "      <td>?</td>\n",
       "      <td>?</td>\n",
       "      <td>Montreal, PQ / Chesterville, ON</td>\n",
       "    </tr>\n",
       "    <tr>\n",
       "      <th>3</th>\n",
       "      <td>1</td>\n",
       "      <td>0</td>\n",
       "      <td>Allison, Mr. Hudson Joshua Creighton</td>\n",
       "      <td>male</td>\n",
       "      <td>30</td>\n",
       "      <td>1</td>\n",
       "      <td>2</td>\n",
       "      <td>113781</td>\n",
       "      <td>151.55</td>\n",
       "      <td>C22 C26</td>\n",
       "      <td>S</td>\n",
       "      <td>?</td>\n",
       "      <td>135</td>\n",
       "      <td>Montreal, PQ / Chesterville, ON</td>\n",
       "    </tr>\n",
       "    <tr>\n",
       "      <th>4</th>\n",
       "      <td>1</td>\n",
       "      <td>0</td>\n",
       "      <td>Allison, Mrs. Hudson J C (Bessie Waldo Daniels)</td>\n",
       "      <td>female</td>\n",
       "      <td>25</td>\n",
       "      <td>1</td>\n",
       "      <td>2</td>\n",
       "      <td>113781</td>\n",
       "      <td>151.55</td>\n",
       "      <td>C22 C26</td>\n",
       "      <td>S</td>\n",
       "      <td>?</td>\n",
       "      <td>?</td>\n",
       "      <td>Montreal, PQ / Chesterville, ON</td>\n",
       "    </tr>\n",
       "  </tbody>\n",
       "</table>\n",
       "</div>"
      ],
      "text/plain": [
       "   pclass  survived                                             name     sex  \\\n",
       "0       1         1                    Allen, Miss. Elisabeth Walton  female   \n",
       "1       1         1                   Allison, Master. Hudson Trevor    male   \n",
       "2       1         0                     Allison, Miss. Helen Loraine  female   \n",
       "3       1         0             Allison, Mr. Hudson Joshua Creighton    male   \n",
       "4       1         0  Allison, Mrs. Hudson J C (Bessie Waldo Daniels)  female   \n",
       "\n",
       "      age  sibsp  parch  ticket      fare    cabin embarked boat body  \\\n",
       "0      29      0      0   24160  211.3375       B5        S    2    ?   \n",
       "1  0.9167      1      2  113781    151.55  C22 C26        S   11    ?   \n",
       "2       2      1      2  113781    151.55  C22 C26        S    ?    ?   \n",
       "3      30      1      2  113781    151.55  C22 C26        S    ?  135   \n",
       "4      25      1      2  113781    151.55  C22 C26        S    ?    ?   \n",
       "\n",
       "                         home.dest  \n",
       "0                     St Louis, MO  \n",
       "1  Montreal, PQ / Chesterville, ON  \n",
       "2  Montreal, PQ / Chesterville, ON  \n",
       "3  Montreal, PQ / Chesterville, ON  \n",
       "4  Montreal, PQ / Chesterville, ON  "
      ]
     },
     "execution_count": 23,
     "metadata": {},
     "output_type": "execute_result"
    }
   ],
   "source": [
    "titanic = pd.read_csv(\"titanic.csv\")\n",
    "titanic.head()"
   ]
  },
  {
   "cell_type": "code",
   "execution_count": 24,
   "id": "29245242",
   "metadata": {},
   "outputs": [],
   "source": [
    "# We'll add sibsb i.e siblings and parch i.e parent,children columns\n",
    "# and get the total family members and categorize them\n",
    "# At first, we'll define a function, then .apply()\n",
    "def family_cat(s):\n",
    "    fam_size = s.sibsp + s.parch\n",
    "    if fam_size == 0:\n",
    "        return \"Solo\"\n",
    "    elif fam_size < 5:\n",
    "        return \"Average\"\n",
    "    elif fam_size > 5:\n",
    "        return \"Large\""
   ]
  },
  {
   "cell_type": "code",
   "execution_count": 25,
   "id": "cdee0b4a",
   "metadata": {},
   "outputs": [
    {
     "data": {
      "text/plain": [
       "0          Solo\n",
       "1       Average\n",
       "2       Average\n",
       "3       Average\n",
       "4       Average\n",
       "         ...   \n",
       "1304    Average\n",
       "1305    Average\n",
       "1306       Solo\n",
       "1307       Solo\n",
       "1308       Solo\n",
       "Length: 1309, dtype: object"
      ]
     },
     "execution_count": 25,
     "metadata": {},
     "output_type": "execute_result"
    }
   ],
   "source": [
    "titanic.apply(family_cat,axis=1)"
   ]
  },
  {
   "cell_type": "code",
   "execution_count": 26,
   "id": "7b001c2c",
   "metadata": {},
   "outputs": [],
   "source": [
    "titanic[\"family_size\"] = titanic.apply(family_cat,axis=1)"
   ]
  },
  {
   "cell_type": "code",
   "execution_count": 27,
   "id": "3aeab6d8",
   "metadata": {},
   "outputs": [
    {
     "data": {
      "text/plain": [
       "Solo       790\n",
       "Average    459\n",
       "Large       35\n",
       "Name: family_size, dtype: int64"
      ]
     },
     "execution_count": 27,
     "metadata": {},
     "output_type": "execute_result"
    }
   ],
   "source": [
    "titanic[\"family_size\"].value_counts()"
   ]
  },
  {
   "cell_type": "code",
   "execution_count": 28,
   "id": "677b2701",
   "metadata": {},
   "outputs": [
    {
     "data": {
      "text/plain": [
       "sex     family_size\n",
       "female  Average        0.771429\n",
       "        Large          0.176471\n",
       "        Solo           0.731959\n",
       "male    Average        0.294393\n",
       "        Large          0.055556\n",
       "        Solo           0.162752\n",
       "Name: survived, dtype: float64"
      ]
     },
     "execution_count": 28,
     "metadata": {},
     "output_type": "execute_result"
    }
   ],
   "source": [
    "# We can analyze further by grouping\n",
    "titanic.groupby([\"sex\",\"family_size\"])[\"survived\"].mean()"
   ]
  },
  {
   "cell_type": "markdown",
   "id": "9d50809a",
   "metadata": {},
   "source": [
    "## The series .map() method"
   ]
  },
  {
   "cell_type": "code",
   "execution_count": 29,
   "id": "ce6071d3",
   "metadata": {},
   "outputs": [
    {
     "data": {
      "text/plain": [
       "0       1\n",
       "1       1\n",
       "2       1\n",
       "3       1\n",
       "4       1\n",
       "       ..\n",
       "1304    3\n",
       "1305    3\n",
       "1306    3\n",
       "1307    3\n",
       "1308    3\n",
       "Name: pclass, Length: 1309, dtype: int64"
      ]
     },
     "execution_count": 29,
     "metadata": {},
     "output_type": "execute_result"
    }
   ],
   "source": [
    "titanic['pclass']"
   ]
  },
  {
   "cell_type": "code",
   "execution_count": 33,
   "id": "d1b64fcd",
   "metadata": {},
   "outputs": [
    {
     "data": {
      "text/plain": [
       "0       1st\n",
       "1       1st\n",
       "2       1st\n",
       "3       1st\n",
       "4       1st\n",
       "       ... \n",
       "1304    3rd\n",
       "1305    3rd\n",
       "1306    3rd\n",
       "1307    3rd\n",
       "1308    3rd\n",
       "Name: pclass, Length: 1309, dtype: object"
      ]
     },
     "execution_count": 33,
     "metadata": {},
     "output_type": "execute_result"
    }
   ],
   "source": [
    "titanic['pclass'].map({1:\"1st\",2:\"2nd\",3:\"3rd\"})"
   ]
  },
  {
   "cell_type": "markdown",
   "id": "928ca8cb",
   "metadata": {},
   "source": [
    "## apply lambda with map()"
   ]
  },
  {
   "cell_type": "code",
   "execution_count": 38,
   "id": "fccaddb3",
   "metadata": {},
   "outputs": [
    {
     "ename": "TypeError",
     "evalue": "'<' not supported between instances of 'str' and 'int'",
     "output_type": "error",
     "traceback": [
      "\u001b[1;31m---------------------------------------------------------------------------\u001b[0m",
      "\u001b[1;31mTypeError\u001b[0m                                 Traceback (most recent call last)",
      "Cell \u001b[1;32mIn[38], line 1\u001b[0m\n\u001b[1;32m----> 1\u001b[0m \u001b[43mtitanic\u001b[49m\u001b[43m[\u001b[49m\u001b[38;5;124;43m\"\u001b[39;49m\u001b[38;5;124;43mage\u001b[39;49m\u001b[38;5;124;43m\"\u001b[39;49m\u001b[43m]\u001b[49m\u001b[38;5;241;43m.\u001b[39;49m\u001b[43mmap\u001b[49m\u001b[43m(\u001b[49m\u001b[38;5;28;43;01mlambda\u001b[39;49;00m\u001b[43m \u001b[49m\u001b[43ma\u001b[49m\u001b[43m:\u001b[49m\u001b[43m \u001b[49m\u001b[43ma\u001b[49m\u001b[43m \u001b[49m\u001b[38;5;241;43m<\u001b[39;49m\u001b[43m \u001b[49m\u001b[38;5;241;43m18\u001b[39;49m\u001b[43m)\u001b[49m\n",
      "File \u001b[1;32m~\\anaconda3\\lib\\site-packages\\pandas\\core\\series.py:4539\u001b[0m, in \u001b[0;36mSeries.map\u001b[1;34m(self, arg, na_action)\u001b[0m\n\u001b[0;32m   4460\u001b[0m \u001b[38;5;28;01mdef\u001b[39;00m \u001b[38;5;21mmap\u001b[39m(\n\u001b[0;32m   4461\u001b[0m     \u001b[38;5;28mself\u001b[39m,\n\u001b[0;32m   4462\u001b[0m     arg: Callable \u001b[38;5;241m|\u001b[39m Mapping \u001b[38;5;241m|\u001b[39m Series,\n\u001b[0;32m   4463\u001b[0m     na_action: Literal[\u001b[38;5;124m\"\u001b[39m\u001b[38;5;124mignore\u001b[39m\u001b[38;5;124m\"\u001b[39m] \u001b[38;5;241m|\u001b[39m \u001b[38;5;28;01mNone\u001b[39;00m \u001b[38;5;241m=\u001b[39m \u001b[38;5;28;01mNone\u001b[39;00m,\n\u001b[0;32m   4464\u001b[0m ) \u001b[38;5;241m-\u001b[39m\u001b[38;5;241m>\u001b[39m Series:\n\u001b[0;32m   4465\u001b[0m     \u001b[38;5;124;03m\"\"\"\u001b[39;00m\n\u001b[0;32m   4466\u001b[0m \u001b[38;5;124;03m    Map values of Series according to an input mapping or function.\u001b[39;00m\n\u001b[0;32m   4467\u001b[0m \n\u001b[1;32m   (...)\u001b[0m\n\u001b[0;32m   4537\u001b[0m \u001b[38;5;124;03m    dtype: object\u001b[39;00m\n\u001b[0;32m   4538\u001b[0m \u001b[38;5;124;03m    \"\"\"\u001b[39;00m\n\u001b[1;32m-> 4539\u001b[0m     new_values \u001b[38;5;241m=\u001b[39m \u001b[38;5;28;43mself\u001b[39;49m\u001b[38;5;241;43m.\u001b[39;49m\u001b[43m_map_values\u001b[49m\u001b[43m(\u001b[49m\u001b[43marg\u001b[49m\u001b[43m,\u001b[49m\u001b[43m \u001b[49m\u001b[43mna_action\u001b[49m\u001b[38;5;241;43m=\u001b[39;49m\u001b[43mna_action\u001b[49m\u001b[43m)\u001b[49m\n\u001b[0;32m   4540\u001b[0m     \u001b[38;5;28;01mreturn\u001b[39;00m \u001b[38;5;28mself\u001b[39m\u001b[38;5;241m.\u001b[39m_constructor(new_values, index\u001b[38;5;241m=\u001b[39m\u001b[38;5;28mself\u001b[39m\u001b[38;5;241m.\u001b[39mindex)\u001b[38;5;241m.\u001b[39m__finalize__(\n\u001b[0;32m   4541\u001b[0m         \u001b[38;5;28mself\u001b[39m, method\u001b[38;5;241m=\u001b[39m\u001b[38;5;124m\"\u001b[39m\u001b[38;5;124mmap\u001b[39m\u001b[38;5;124m\"\u001b[39m\n\u001b[0;32m   4542\u001b[0m     )\n",
      "File \u001b[1;32m~\\anaconda3\\lib\\site-packages\\pandas\\core\\base.py:890\u001b[0m, in \u001b[0;36mIndexOpsMixin._map_values\u001b[1;34m(self, mapper, na_action)\u001b[0m\n\u001b[0;32m    887\u001b[0m         \u001b[38;5;28;01mraise\u001b[39;00m \u001b[38;5;167;01mValueError\u001b[39;00m(msg)\n\u001b[0;32m    889\u001b[0m \u001b[38;5;66;03m# mapper is a function\u001b[39;00m\n\u001b[1;32m--> 890\u001b[0m new_values \u001b[38;5;241m=\u001b[39m \u001b[43mmap_f\u001b[49m\u001b[43m(\u001b[49m\u001b[43mvalues\u001b[49m\u001b[43m,\u001b[49m\u001b[43m \u001b[49m\u001b[43mmapper\u001b[49m\u001b[43m)\u001b[49m\n\u001b[0;32m    892\u001b[0m \u001b[38;5;28;01mreturn\u001b[39;00m new_values\n",
      "File \u001b[1;32m~\\anaconda3\\lib\\site-packages\\pandas\\_libs\\lib.pyx:2924\u001b[0m, in \u001b[0;36mpandas._libs.lib.map_infer\u001b[1;34m()\u001b[0m\n",
      "Cell \u001b[1;32mIn[38], line 1\u001b[0m, in \u001b[0;36m<lambda>\u001b[1;34m(a)\u001b[0m\n\u001b[1;32m----> 1\u001b[0m titanic[\u001b[38;5;124m\"\u001b[39m\u001b[38;5;124mage\u001b[39m\u001b[38;5;124m\"\u001b[39m]\u001b[38;5;241m.\u001b[39mmap(\u001b[38;5;28;01mlambda\u001b[39;00m a: \u001b[43ma\u001b[49m\u001b[43m \u001b[49m\u001b[38;5;241;43m<\u001b[39;49m\u001b[43m \u001b[49m\u001b[38;5;241;43m18\u001b[39;49m)\n",
      "\u001b[1;31mTypeError\u001b[0m: '<' not supported between instances of 'str' and 'int'"
     ]
    }
   ],
   "source": [
    "titanic[\"age\"].map(lambda a: a < 18)\n",
    "# It should print a series with boolean of True of False but showing error for some reason"
   ]
  },
  {
   "cell_type": "markdown",
   "id": "e9cb063b",
   "metadata": {},
   "source": [
    "## .applymap()"
   ]
  },
  {
   "cell_type": "code",
   "execution_count": 42,
   "id": "8820f22e",
   "metadata": {},
   "outputs": [
    {
     "data": {
      "text/html": [
       "<div>\n",
       "<style scoped>\n",
       "    .dataframe tbody tr th:only-of-type {\n",
       "        vertical-align: middle;\n",
       "    }\n",
       "\n",
       "    .dataframe tbody tr th {\n",
       "        vertical-align: top;\n",
       "    }\n",
       "\n",
       "    .dataframe thead th {\n",
       "        text-align: right;\n",
       "    }\n",
       "</style>\n",
       "<table border=\"1\" class=\"dataframe\">\n",
       "  <thead>\n",
       "    <tr style=\"text-align: right;\">\n",
       "      <th></th>\n",
       "      <th>name</th>\n",
       "      <th>sex</th>\n",
       "    </tr>\n",
       "  </thead>\n",
       "  <tbody>\n",
       "    <tr>\n",
       "      <th>0</th>\n",
       "      <td>ALLEN, MISS. ELISABETH WALTON</td>\n",
       "      <td>FEMALE</td>\n",
       "    </tr>\n",
       "    <tr>\n",
       "      <th>1</th>\n",
       "      <td>ALLISON, MASTER. HUDSON TREVOR</td>\n",
       "      <td>MALE</td>\n",
       "    </tr>\n",
       "    <tr>\n",
       "      <th>2</th>\n",
       "      <td>ALLISON, MISS. HELEN LORAINE</td>\n",
       "      <td>FEMALE</td>\n",
       "    </tr>\n",
       "    <tr>\n",
       "      <th>3</th>\n",
       "      <td>ALLISON, MR. HUDSON JOSHUA CREIGHTON</td>\n",
       "      <td>MALE</td>\n",
       "    </tr>\n",
       "    <tr>\n",
       "      <th>4</th>\n",
       "      <td>ALLISON, MRS. HUDSON J C (BESSIE WALDO DANIELS)</td>\n",
       "      <td>FEMALE</td>\n",
       "    </tr>\n",
       "    <tr>\n",
       "      <th>...</th>\n",
       "      <td>...</td>\n",
       "      <td>...</td>\n",
       "    </tr>\n",
       "    <tr>\n",
       "      <th>1304</th>\n",
       "      <td>ZABOUR, MISS. HILENI</td>\n",
       "      <td>FEMALE</td>\n",
       "    </tr>\n",
       "    <tr>\n",
       "      <th>1305</th>\n",
       "      <td>ZABOUR, MISS. THAMINE</td>\n",
       "      <td>FEMALE</td>\n",
       "    </tr>\n",
       "    <tr>\n",
       "      <th>1306</th>\n",
       "      <td>ZAKARIAN, MR. MAPRIEDEDER</td>\n",
       "      <td>MALE</td>\n",
       "    </tr>\n",
       "    <tr>\n",
       "      <th>1307</th>\n",
       "      <td>ZAKARIAN, MR. ORTIN</td>\n",
       "      <td>MALE</td>\n",
       "    </tr>\n",
       "    <tr>\n",
       "      <th>1308</th>\n",
       "      <td>ZIMMERMAN, MR. LEO</td>\n",
       "      <td>MALE</td>\n",
       "    </tr>\n",
       "  </tbody>\n",
       "</table>\n",
       "<p>1309 rows × 2 columns</p>\n",
       "</div>"
      ],
      "text/plain": [
       "                                                 name     sex\n",
       "0                       ALLEN, MISS. ELISABETH WALTON  FEMALE\n",
       "1                      ALLISON, MASTER. HUDSON TREVOR    MALE\n",
       "2                        ALLISON, MISS. HELEN LORAINE  FEMALE\n",
       "3                ALLISON, MR. HUDSON JOSHUA CREIGHTON    MALE\n",
       "4     ALLISON, MRS. HUDSON J C (BESSIE WALDO DANIELS)  FEMALE\n",
       "...                                               ...     ...\n",
       "1304                             ZABOUR, MISS. HILENI  FEMALE\n",
       "1305                            ZABOUR, MISS. THAMINE  FEMALE\n",
       "1306                        ZAKARIAN, MR. MAPRIEDEDER    MALE\n",
       "1307                              ZAKARIAN, MR. ORTIN    MALE\n",
       "1308                               ZIMMERMAN, MR. LEO    MALE\n",
       "\n",
       "[1309 rows x 2 columns]"
      ]
     },
     "execution_count": 42,
     "metadata": {},
     "output_type": "execute_result"
    }
   ],
   "source": [
    "# This is a Dataframe only method.\n",
    "titanic[[\"name\",\"sex\"]].applymap(str.upper)"
   ]
  },
  {
   "cell_type": "code",
   "execution_count": 43,
   "id": "455c503e",
   "metadata": {},
   "outputs": [],
   "source": [
    "df = titanic[[\"pclass\",\"survived\",\"age\",\"fare\"]]"
   ]
  },
  {
   "cell_type": "code",
   "execution_count": 44,
   "id": "deea27de",
   "metadata": {},
   "outputs": [
    {
     "data": {
      "text/html": [
       "<div>\n",
       "<style scoped>\n",
       "    .dataframe tbody tr th:only-of-type {\n",
       "        vertical-align: middle;\n",
       "    }\n",
       "\n",
       "    .dataframe tbody tr th {\n",
       "        vertical-align: top;\n",
       "    }\n",
       "\n",
       "    .dataframe thead th {\n",
       "        text-align: right;\n",
       "    }\n",
       "</style>\n",
       "<table border=\"1\" class=\"dataframe\">\n",
       "  <thead>\n",
       "    <tr style=\"text-align: right;\">\n",
       "      <th></th>\n",
       "      <th>pclass</th>\n",
       "      <th>survived</th>\n",
       "      <th>age</th>\n",
       "      <th>fare</th>\n",
       "    </tr>\n",
       "  </thead>\n",
       "  <tbody>\n",
       "    <tr>\n",
       "      <th>0</th>\n",
       "      <td>7</td>\n",
       "      <td>7</td>\n",
       "      <td>29292929292929</td>\n",
       "      <td>211.3375211.3375211.3375211.3375211.3375211.33...</td>\n",
       "    </tr>\n",
       "    <tr>\n",
       "      <th>1</th>\n",
       "      <td>7</td>\n",
       "      <td>7</td>\n",
       "      <td>0.91670.91670.91670.91670.91670.91670.9167</td>\n",
       "      <td>151.55151.55151.55151.55151.55151.55151.55</td>\n",
       "    </tr>\n",
       "    <tr>\n",
       "      <th>2</th>\n",
       "      <td>7</td>\n",
       "      <td>0</td>\n",
       "      <td>2222222</td>\n",
       "      <td>151.55151.55151.55151.55151.55151.55151.55</td>\n",
       "    </tr>\n",
       "    <tr>\n",
       "      <th>3</th>\n",
       "      <td>7</td>\n",
       "      <td>0</td>\n",
       "      <td>30303030303030</td>\n",
       "      <td>151.55151.55151.55151.55151.55151.55151.55</td>\n",
       "    </tr>\n",
       "    <tr>\n",
       "      <th>4</th>\n",
       "      <td>7</td>\n",
       "      <td>0</td>\n",
       "      <td>25252525252525</td>\n",
       "      <td>151.55151.55151.55151.55151.55151.55151.55</td>\n",
       "    </tr>\n",
       "    <tr>\n",
       "      <th>...</th>\n",
       "      <td>...</td>\n",
       "      <td>...</td>\n",
       "      <td>...</td>\n",
       "      <td>...</td>\n",
       "    </tr>\n",
       "    <tr>\n",
       "      <th>1304</th>\n",
       "      <td>21</td>\n",
       "      <td>0</td>\n",
       "      <td>14.514.514.514.514.514.514.5</td>\n",
       "      <td>14.454214.454214.454214.454214.454214.454214.4542</td>\n",
       "    </tr>\n",
       "    <tr>\n",
       "      <th>1305</th>\n",
       "      <td>21</td>\n",
       "      <td>0</td>\n",
       "      <td>???????</td>\n",
       "      <td>14.454214.454214.454214.454214.454214.454214.4542</td>\n",
       "    </tr>\n",
       "    <tr>\n",
       "      <th>1306</th>\n",
       "      <td>21</td>\n",
       "      <td>0</td>\n",
       "      <td>26.526.526.526.526.526.526.5</td>\n",
       "      <td>7.2257.2257.2257.2257.2257.2257.225</td>\n",
       "    </tr>\n",
       "    <tr>\n",
       "      <th>1307</th>\n",
       "      <td>21</td>\n",
       "      <td>0</td>\n",
       "      <td>27272727272727</td>\n",
       "      <td>7.2257.2257.2257.2257.2257.2257.225</td>\n",
       "    </tr>\n",
       "    <tr>\n",
       "      <th>1308</th>\n",
       "      <td>21</td>\n",
       "      <td>0</td>\n",
       "      <td>29292929292929</td>\n",
       "      <td>7.8757.8757.8757.8757.8757.8757.875</td>\n",
       "    </tr>\n",
       "  </tbody>\n",
       "</table>\n",
       "<p>1309 rows × 4 columns</p>\n",
       "</div>"
      ],
      "text/plain": [
       "      pclass  survived                                         age  \\\n",
       "0          7         7                              29292929292929   \n",
       "1          7         7  0.91670.91670.91670.91670.91670.91670.9167   \n",
       "2          7         0                                     2222222   \n",
       "3          7         0                              30303030303030   \n",
       "4          7         0                              25252525252525   \n",
       "...      ...       ...                                         ...   \n",
       "1304      21         0                14.514.514.514.514.514.514.5   \n",
       "1305      21         0                                     ???????   \n",
       "1306      21         0                26.526.526.526.526.526.526.5   \n",
       "1307      21         0                              27272727272727   \n",
       "1308      21         0                              29292929292929   \n",
       "\n",
       "                                                   fare  \n",
       "0     211.3375211.3375211.3375211.3375211.3375211.33...  \n",
       "1            151.55151.55151.55151.55151.55151.55151.55  \n",
       "2            151.55151.55151.55151.55151.55151.55151.55  \n",
       "3            151.55151.55151.55151.55151.55151.55151.55  \n",
       "4            151.55151.55151.55151.55151.55151.55151.55  \n",
       "...                                                 ...  \n",
       "1304  14.454214.454214.454214.454214.454214.454214.4542  \n",
       "1305  14.454214.454214.454214.454214.454214.454214.4542  \n",
       "1306                7.2257.2257.2257.2257.2257.2257.225  \n",
       "1307                7.2257.2257.2257.2257.2257.2257.225  \n",
       "1308                7.8757.8757.8757.8757.8757.8757.875  \n",
       "\n",
       "[1309 rows x 4 columns]"
      ]
     },
     "execution_count": 44,
     "metadata": {},
     "output_type": "execute_result"
    }
   ],
   "source": [
    "df.applymap(lambda el: el*7)"
   ]
  },
  {
   "cell_type": "code",
   "execution_count": 46,
   "id": "dd5006ee",
   "metadata": {},
   "outputs": [
    {
     "data": {
      "text/html": [
       "<div>\n",
       "<style scoped>\n",
       "    .dataframe tbody tr th:only-of-type {\n",
       "        vertical-align: middle;\n",
       "    }\n",
       "\n",
       "    .dataframe tbody tr th {\n",
       "        vertical-align: top;\n",
       "    }\n",
       "\n",
       "    .dataframe thead th {\n",
       "        text-align: right;\n",
       "    }\n",
       "</style>\n",
       "<table border=\"1\" class=\"dataframe\">\n",
       "  <thead>\n",
       "    <tr style=\"text-align: right;\">\n",
       "      <th></th>\n",
       "      <th>name</th>\n",
       "      <th>sex</th>\n",
       "    </tr>\n",
       "  </thead>\n",
       "  <tbody>\n",
       "    <tr>\n",
       "      <th>0</th>\n",
       "      <td>29</td>\n",
       "      <td>6</td>\n",
       "    </tr>\n",
       "    <tr>\n",
       "      <th>1</th>\n",
       "      <td>30</td>\n",
       "      <td>4</td>\n",
       "    </tr>\n",
       "    <tr>\n",
       "      <th>2</th>\n",
       "      <td>28</td>\n",
       "      <td>6</td>\n",
       "    </tr>\n",
       "    <tr>\n",
       "      <th>3</th>\n",
       "      <td>36</td>\n",
       "      <td>4</td>\n",
       "    </tr>\n",
       "    <tr>\n",
       "      <th>4</th>\n",
       "      <td>47</td>\n",
       "      <td>6</td>\n",
       "    </tr>\n",
       "    <tr>\n",
       "      <th>...</th>\n",
       "      <td>...</td>\n",
       "      <td>...</td>\n",
       "    </tr>\n",
       "    <tr>\n",
       "      <th>1304</th>\n",
       "      <td>20</td>\n",
       "      <td>6</td>\n",
       "    </tr>\n",
       "    <tr>\n",
       "      <th>1305</th>\n",
       "      <td>21</td>\n",
       "      <td>6</td>\n",
       "    </tr>\n",
       "    <tr>\n",
       "      <th>1306</th>\n",
       "      <td>25</td>\n",
       "      <td>4</td>\n",
       "    </tr>\n",
       "    <tr>\n",
       "      <th>1307</th>\n",
       "      <td>19</td>\n",
       "      <td>4</td>\n",
       "    </tr>\n",
       "    <tr>\n",
       "      <th>1308</th>\n",
       "      <td>18</td>\n",
       "      <td>4</td>\n",
       "    </tr>\n",
       "  </tbody>\n",
       "</table>\n",
       "<p>1309 rows × 2 columns</p>\n",
       "</div>"
      ],
      "text/plain": [
       "      name  sex\n",
       "0       29    6\n",
       "1       30    4\n",
       "2       28    6\n",
       "3       36    4\n",
       "4       47    6\n",
       "...    ...  ...\n",
       "1304    20    6\n",
       "1305    21    6\n",
       "1306    25    4\n",
       "1307    19    4\n",
       "1308    18    4\n",
       "\n",
       "[1309 rows x 2 columns]"
      ]
     },
     "execution_count": 46,
     "metadata": {},
     "output_type": "execute_result"
    }
   ],
   "source": [
    "titanic[[\"name\",\"sex\"]].applymap(len)"
   ]
  }
 ],
 "metadata": {
  "kernelspec": {
   "display_name": "Python 3 (ipykernel)",
   "language": "python",
   "name": "python3"
  },
  "language_info": {
   "codemirror_mode": {
    "name": "ipython",
    "version": 3
   },
   "file_extension": ".py",
   "mimetype": "text/x-python",
   "name": "python",
   "nbconvert_exporter": "python",
   "pygments_lexer": "ipython3",
   "version": "3.10.9"
  }
 },
 "nbformat": 4,
 "nbformat_minor": 5
}
