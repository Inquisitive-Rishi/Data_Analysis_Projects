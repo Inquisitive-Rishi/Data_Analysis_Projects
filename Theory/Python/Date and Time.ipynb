{
 "cells": [
  {
   "cell_type": "markdown",
   "id": "b5201a1e",
   "metadata": {},
   "source": [
    "# Dates and time"
   ]
  },
  {
   "cell_type": "code",
   "execution_count": 1,
   "id": "bd9b5f3f",
   "metadata": {},
   "outputs": [],
   "source": [
    "import pandas as pd\n",
    "import numpy as np\n",
    "import matplotlib.pyplot as plt\n",
    "import seaborn as sns"
   ]
  },
  {
   "cell_type": "raw",
   "id": "5a4b3c42",
   "metadata": {},
   "source": [
    "> We can have dates and time to many format\n",
    "    2019-12-31 --> December 31st 2019\n",
    "    2019-31-12 --> 31st December 2019\n",
    "    12-31-2019 --> 31st Dec 2019\n",
    "    etc etc.....\n",
    " \n",
    "> Pandas can convert any type of date and time string to date-time"
   ]
  },
  {
   "cell_type": "markdown",
   "id": "eaba8d9f",
   "metadata": {},
   "source": [
    "##  pd.to_datetime()"
   ]
  },
  {
   "cell_type": "raw",
   "id": "00a69ead",
   "metadata": {},
   "source": [
    "This Pandas function is used to convert any date time string to date time"
   ]
  },
  {
   "cell_type": "code",
   "execution_count": 5,
   "id": "9f8d6877",
   "metadata": {},
   "outputs": [
    {
     "data": {
      "text/plain": [
       "Timestamp('1990-04-23 00:00:00')"
      ]
     },
     "execution_count": 5,
     "metadata": {},
     "output_type": "execute_result"
    }
   ],
   "source": [
    "pd.to_datetime('23rd Apr 90')"
   ]
  },
  {
   "cell_type": "code",
   "execution_count": 9,
   "id": "19cac2fc",
   "metadata": {},
   "outputs": [
    {
     "data": {
      "text/plain": [
       "Timestamp('1970-01-01 00:00:00')"
      ]
     },
     "execution_count": 9,
     "metadata": {},
     "output_type": "execute_result"
    }
   ],
   "source": [
    "pd.to_datetime(10/11/12)\n",
    "# By default, pandas convert 10 to month, 11 to day, 12 to year.\n",
    "# Its not showing corrent time as my clock is not synched.\n",
    "# It shows Timestamp(2012-10-11)"
   ]
  },
  {
   "cell_type": "markdown",
   "id": "09838e74",
   "metadata": {},
   "source": [
    "## dayfirst | yearfirst"
   ]
  },
  {
   "cell_type": "code",
   "execution_count": 8,
   "id": "362a7daa",
   "metadata": {},
   "outputs": [
    {
     "data": {
      "text/plain": [
       "Timestamp('2012-11-10 00:00:00')"
      ]
     },
     "execution_count": 8,
     "metadata": {},
     "output_type": "execute_result"
    }
   ],
   "source": [
    "# We can set which one to consider day/year\n",
    "pd.to_datetime('10/11/12',dayfirst=True)"
   ]
  },
  {
   "cell_type": "code",
   "execution_count": 10,
   "id": "12999f18",
   "metadata": {},
   "outputs": [
    {
     "data": {
      "text/plain": [
       "Timestamp('2010-11-12 00:00:00')"
      ]
     },
     "execution_count": 10,
     "metadata": {},
     "output_type": "execute_result"
    }
   ],
   "source": [
    "pd.to_datetime('10/11/12',yearfirst=True)"
   ]
  },
  {
   "cell_type": "raw",
   "id": "6b277da1",
   "metadata": {},
   "source": [
    "pd.to_datetime() converts time to '24-hour' format"
   ]
  },
  {
   "cell_type": "code",
   "execution_count": 11,
   "id": "1aea083f",
   "metadata": {},
   "outputs": [
    {
     "data": {
      "text/plain": [
       "Timestamp('2012-10-11 16:45:00')"
      ]
     },
     "execution_count": 11,
     "metadata": {},
     "output_type": "execute_result"
    }
   ],
   "source": [
    "pd.to_datetime('10/11/12 4:45pm')"
   ]
  },
  {
   "cell_type": "raw",
   "id": "2ff41156",
   "metadata": {},
   "source": [
    "We can also change the order of input"
   ]
  },
  {
   "cell_type": "code",
   "execution_count": 12,
   "id": "19f4c36c",
   "metadata": {},
   "outputs": [
    {
     "data": {
      "text/plain": [
       "Timestamp('2012-10-11 17:36:00')"
      ]
     },
     "execution_count": 12,
     "metadata": {},
     "output_type": "execute_result"
    }
   ],
   "source": [
    "pd.to_datetime('5:36pm 10/11/12')"
   ]
  },
  {
   "cell_type": "raw",
   "id": "00d3bb10",
   "metadata": {},
   "source": [
    "We can also provide the list of date,time and it still converts it easily"
   ]
  },
  {
   "cell_type": "code",
   "execution_count": 13,
   "id": "7c5adfc6",
   "metadata": {},
   "outputs": [
    {
     "data": {
      "text/plain": [
       "DatetimeIndex(['2012-10-11 15:35:00', '2019-10-21 16:45:00'], dtype='datetime64[ns]', freq=None)"
      ]
     },
     "execution_count": 13,
     "metadata": {},
     "output_type": "execute_result"
    }
   ],
   "source": [
    "dt = ['3:35pm 10-11-12','4:45pm 21-10-19']\n",
    "pd.to_datetime(dt)"
   ]
  },
  {
   "cell_type": "markdown",
   "id": "dfcfcb02",
   "metadata": {},
   "source": [
    "## format"
   ]
  },
  {
   "cell_type": "raw",
   "id": "f2453b0f",
   "metadata": {},
   "source": [
    "> format is more powerful than dayfirst and yearfirst as it gives more control to set date or year or   month\n",
    "> We can codes for different formats of date and time\n",
    "\n",
    "Formats:\n",
    "    > %d --> day of the month as a zero padded decimal number 01,02....31.\n",
    "    > %m --> month as a zero-padded decimal number 01,02.....12.\n",
    "    > %y --> year without contrary as a zero-padded decimal number 00,01,02...99.\n",
    "    > %Y --> year with century as a decimal no 0001,0002....2013,2014..9999.\n",
    "    etc etc."
   ]
  },
  {
   "cell_type": "code",
   "execution_count": 14,
   "id": "99dacb0a",
   "metadata": {},
   "outputs": [
    {
     "data": {
      "text/plain": [
       "Timestamp('2012-10-11 00:00:00')"
      ]
     },
     "execution_count": 14,
     "metadata": {},
     "output_type": "execute_result"
    }
   ],
   "source": [
    "pd.to_datetime(\"10/11/12\")"
   ]
  },
  {
   "cell_type": "code",
   "execution_count": 15,
   "id": "f323cbec",
   "metadata": {},
   "outputs": [
    {
     "data": {
      "text/plain": [
       "Timestamp('2012-11-10 00:00:00')"
      ]
     },
     "execution_count": 15,
     "metadata": {},
     "output_type": "execute_result"
    }
   ],
   "source": [
    "# but after using codes, we an set dates with more control\n",
    "pd.to_datetime(\"10/11/12\",format=\"%d/%m/%y\")"
   ]
  },
  {
   "cell_type": "markdown",
   "id": "b1e15bce",
   "metadata": {},
   "source": [
    "## Dates with string"
   ]
  },
  {
   "cell_type": "raw",
   "id": "90682196",
   "metadata": {},
   "source": [
    "This time we'll have a list of dates with a string 'meeting' attached"
   ]
  },
  {
   "cell_type": "code",
   "execution_count": 26,
   "id": "c8ef89ac",
   "metadata": {},
   "outputs": [],
   "source": [
    "holidays = [\"Dec 31 1996 Meeting\", \"Aug 15 1947 Meeting\", \"Apr 17 1857 Meeting\"]"
   ]
  },
  {
   "cell_type": "code",
   "execution_count": 28,
   "id": "0328aeb8",
   "metadata": {},
   "outputs": [
    {
     "data": {
      "text/plain": [
       "DatetimeIndex(['1996-12-31', '1947-08-15', '1857-04-17'], dtype='datetime64[ns]', freq=None)"
      ]
     },
     "execution_count": 28,
     "metadata": {},
     "output_type": "execute_result"
    }
   ],
   "source": [
    "pd.to_datetime(holidays,format=\"%b %d %Y Meeting\")"
   ]
  },
  {
   "cell_type": "markdown",
   "id": "41a06956",
   "metadata": {},
   "source": [
    "## Dates and Dataframes"
   ]
  },
  {
   "cell_type": "code",
   "execution_count": 30,
   "id": "42f119fb",
   "metadata": {},
   "outputs": [],
   "source": [
    "ufo = pd.read_csv(\"nuforc_reports.csv\")"
   ]
  },
  {
   "cell_type": "raw",
   "id": "8f3daae7",
   "metadata": {},
   "source": [
    "To change the datatype of an imported csv file to 'datetime'"
   ]
  },
  {
   "cell_type": "code",
   "execution_count": 31,
   "id": "e5da5c6c",
   "metadata": {},
   "outputs": [
    {
     "data": {
      "text/plain": [
       "0       2019-12-12 18:43:00\n",
       "1       2019-03-22 18:30:00\n",
       "2                       NaT\n",
       "3       2019-04-17 02:00:00\n",
       "4       2009-03-15 18:00:00\n",
       "                ...        \n",
       "88120   2019-10-02 20:00:00\n",
       "88121   2019-10-02 20:00:00\n",
       "88122   2019-10-02 20:03:00\n",
       "88123   2019-10-02 22:00:00\n",
       "88124   2019-10-02 22:00:00\n",
       "Name: date_time, Length: 88125, dtype: datetime64[ns]"
      ]
     },
     "execution_count": 31,
     "metadata": {},
     "output_type": "execute_result"
    }
   ],
   "source": [
    "pd.to_datetime(ufo[\"date_time\"])\n",
    "# This prints a series with changed data type.\n",
    "# This is a temporary change."
   ]
  },
  {
   "cell_type": "raw",
   "id": "de426c09",
   "metadata": {},
   "source": [
    "Note: We should create a new column to save the changes."
   ]
  },
  {
   "cell_type": "code",
   "execution_count": 32,
   "id": "ed8aa8d5",
   "metadata": {},
   "outputs": [],
   "source": [
    "# Create a new column 'date'\n",
    "ufo[\"date\"] = pd.to_datetime(ufo[\"date_time\"])"
   ]
  },
  {
   "cell_type": "code",
   "execution_count": 34,
   "id": "e08da6ae",
   "metadata": {},
   "outputs": [
    {
     "data": {
      "text/html": [
       "<div>\n",
       "<style scoped>\n",
       "    .dataframe tbody tr th:only-of-type {\n",
       "        vertical-align: middle;\n",
       "    }\n",
       "\n",
       "    .dataframe tbody tr th {\n",
       "        vertical-align: top;\n",
       "    }\n",
       "\n",
       "    .dataframe thead th {\n",
       "        text-align: right;\n",
       "    }\n",
       "</style>\n",
       "<table border=\"1\" class=\"dataframe\">\n",
       "  <thead>\n",
       "    <tr style=\"text-align: right;\">\n",
       "      <th></th>\n",
       "      <th>summary</th>\n",
       "      <th>city</th>\n",
       "      <th>state</th>\n",
       "      <th>date_time</th>\n",
       "      <th>shape</th>\n",
       "      <th>duration</th>\n",
       "      <th>stats</th>\n",
       "      <th>report_link</th>\n",
       "      <th>text</th>\n",
       "      <th>posted</th>\n",
       "      <th>city_latitude</th>\n",
       "      <th>city_longitude</th>\n",
       "      <th>date</th>\n",
       "    </tr>\n",
       "  </thead>\n",
       "  <tbody>\n",
       "    <tr>\n",
       "      <th>0</th>\n",
       "      <td>My wife was driving southeast on a fairly popu...</td>\n",
       "      <td>Chester</td>\n",
       "      <td>VA</td>\n",
       "      <td>2019-12-12T18:43:00</td>\n",
       "      <td>light</td>\n",
       "      <td>5 seconds</td>\n",
       "      <td>Occurred : 12/12/2019 18:43  (Entered as : 12/...</td>\n",
       "      <td>http://www.nuforc.org/webreports/151/S151739.html</td>\n",
       "      <td>My wife was driving southeast on a fairly popu...</td>\n",
       "      <td>2019-12-22T00:00:00</td>\n",
       "      <td>37.343152</td>\n",
       "      <td>-77.408582</td>\n",
       "      <td>2019-12-12 18:43:00</td>\n",
       "    </tr>\n",
       "    <tr>\n",
       "      <th>1</th>\n",
       "      <td>I think that I may caught a UFO on the NBC Nig...</td>\n",
       "      <td>Rocky Hill</td>\n",
       "      <td>CT</td>\n",
       "      <td>2019-03-22T18:30:00</td>\n",
       "      <td>circle</td>\n",
       "      <td>3-5 seconds</td>\n",
       "      <td>Occurred : 3/22/2019 18:30  (Entered as : 03/2...</td>\n",
       "      <td>http://www.nuforc.org/webreports/145/S145297.html</td>\n",
       "      <td>I think that I may caught a UFO on the NBC Nig...</td>\n",
       "      <td>2019-03-29T00:00:00</td>\n",
       "      <td>41.664800</td>\n",
       "      <td>-72.639300</td>\n",
       "      <td>2019-03-22 18:30:00</td>\n",
       "    </tr>\n",
       "    <tr>\n",
       "      <th>2</th>\n",
       "      <td>I woke up late in the afternoon 3:30-4pm. I we...</td>\n",
       "      <td>NaN</td>\n",
       "      <td>NaN</td>\n",
       "      <td>NaN</td>\n",
       "      <td>NaN</td>\n",
       "      <td>NaN</td>\n",
       "      <td>Occurred : 4/1/2019 15:45  (Entered as : April...</td>\n",
       "      <td>http://www.nuforc.org/webreports/145/S145556.html</td>\n",
       "      <td>I woke up late in the afternoon 3:30-4pm.  I w...</td>\n",
       "      <td>NaN</td>\n",
       "      <td>NaN</td>\n",
       "      <td>NaN</td>\n",
       "      <td>NaT</td>\n",
       "    </tr>\n",
       "    <tr>\n",
       "      <th>3</th>\n",
       "      <td>I was driving towards the intersection of fall...</td>\n",
       "      <td>Ottawa</td>\n",
       "      <td>ON</td>\n",
       "      <td>2019-04-17T02:00:00</td>\n",
       "      <td>teardrop</td>\n",
       "      <td>10 seconds</td>\n",
       "      <td>Occurred : 4/17/2019 02:00  (Entered as : 04-1...</td>\n",
       "      <td>http://www.nuforc.org/webreports/145/S145697.html</td>\n",
       "      <td>I was driving towards the intersection of fall...</td>\n",
       "      <td>2019-04-18T00:00:00</td>\n",
       "      <td>45.381383</td>\n",
       "      <td>-75.708501</td>\n",
       "      <td>2019-04-17 02:00:00</td>\n",
       "    </tr>\n",
       "    <tr>\n",
       "      <th>4</th>\n",
       "      <td>In Peoria Arizona, I saw a cigar shaped craft ...</td>\n",
       "      <td>Peoria</td>\n",
       "      <td>NY</td>\n",
       "      <td>2009-03-15T18:00:00</td>\n",
       "      <td>cigar</td>\n",
       "      <td>2 minutes</td>\n",
       "      <td>Occurred : 3/15/2009 18:00  (Entered as : 03/1...</td>\n",
       "      <td>http://www.nuforc.org/webreports/145/S145723.html</td>\n",
       "      <td>In Peoria, Arizona, I saw a cigar shaped craft...</td>\n",
       "      <td>2019-04-18T00:00:00</td>\n",
       "      <td>NaN</td>\n",
       "      <td>NaN</td>\n",
       "      <td>2009-03-15 18:00:00</td>\n",
       "    </tr>\n",
       "  </tbody>\n",
       "</table>\n",
       "</div>"
      ],
      "text/plain": [
       "                                             summary        city state  \\\n",
       "0  My wife was driving southeast on a fairly popu...     Chester    VA   \n",
       "1  I think that I may caught a UFO on the NBC Nig...  Rocky Hill    CT   \n",
       "2  I woke up late in the afternoon 3:30-4pm. I we...         NaN   NaN   \n",
       "3  I was driving towards the intersection of fall...      Ottawa    ON   \n",
       "4  In Peoria Arizona, I saw a cigar shaped craft ...      Peoria    NY   \n",
       "\n",
       "             date_time     shape     duration  \\\n",
       "0  2019-12-12T18:43:00     light    5 seconds   \n",
       "1  2019-03-22T18:30:00    circle  3-5 seconds   \n",
       "2                  NaN       NaN          NaN   \n",
       "3  2019-04-17T02:00:00  teardrop   10 seconds   \n",
       "4  2009-03-15T18:00:00     cigar    2 minutes   \n",
       "\n",
       "                                               stats  \\\n",
       "0  Occurred : 12/12/2019 18:43  (Entered as : 12/...   \n",
       "1  Occurred : 3/22/2019 18:30  (Entered as : 03/2...   \n",
       "2  Occurred : 4/1/2019 15:45  (Entered as : April...   \n",
       "3  Occurred : 4/17/2019 02:00  (Entered as : 04-1...   \n",
       "4  Occurred : 3/15/2009 18:00  (Entered as : 03/1...   \n",
       "\n",
       "                                         report_link  \\\n",
       "0  http://www.nuforc.org/webreports/151/S151739.html   \n",
       "1  http://www.nuforc.org/webreports/145/S145297.html   \n",
       "2  http://www.nuforc.org/webreports/145/S145556.html   \n",
       "3  http://www.nuforc.org/webreports/145/S145697.html   \n",
       "4  http://www.nuforc.org/webreports/145/S145723.html   \n",
       "\n",
       "                                                text               posted  \\\n",
       "0  My wife was driving southeast on a fairly popu...  2019-12-22T00:00:00   \n",
       "1  I think that I may caught a UFO on the NBC Nig...  2019-03-29T00:00:00   \n",
       "2  I woke up late in the afternoon 3:30-4pm.  I w...                  NaN   \n",
       "3  I was driving towards the intersection of fall...  2019-04-18T00:00:00   \n",
       "4  In Peoria, Arizona, I saw a cigar shaped craft...  2019-04-18T00:00:00   \n",
       "\n",
       "   city_latitude  city_longitude                date  \n",
       "0      37.343152      -77.408582 2019-12-12 18:43:00  \n",
       "1      41.664800      -72.639300 2019-03-22 18:30:00  \n",
       "2            NaN             NaN                 NaT  \n",
       "3      45.381383      -75.708501 2019-04-17 02:00:00  \n",
       "4            NaN             NaN 2009-03-15 18:00:00  "
      ]
     },
     "execution_count": 34,
     "metadata": {},
     "output_type": "execute_result"
    }
   ],
   "source": [
    "ufo.head()"
   ]
  },
  {
   "cell_type": "raw",
   "id": "e916f033",
   "metadata": {},
   "source": [
    "Now, if we want date to be converted to datetime type on the fly, we use parse_dates\n",
    "it is done while importing the data"
   ]
  },
  {
   "cell_type": "code",
   "execution_count": 35,
   "id": "59cbcb3c",
   "metadata": {},
   "outputs": [
    {
     "name": "stdout",
     "output_type": "stream",
     "text": [
      "<class 'pandas.core.frame.DataFrame'>\n",
      "RangeIndex: 88125 entries, 0 to 88124\n",
      "Data columns (total 12 columns):\n",
      " #   Column          Non-Null Count  Dtype         \n",
      "---  ------          --------------  -----         \n",
      " 0   summary         88095 non-null  object        \n",
      " 1   city            87891 non-null  object        \n",
      " 2   state           82890 non-null  object        \n",
      " 3   date_time       86938 non-null  datetime64[ns]\n",
      " 4   shape           85627 non-null  object        \n",
      " 5   duration        84954 non-null  object        \n",
      " 6   stats           88088 non-null  object        \n",
      " 7   report_link     88125 non-null  object        \n",
      " 8   text            88070 non-null  object        \n",
      " 9   posted          86938 non-null  object        \n",
      " 10  city_latitude   72013 non-null  float64       \n",
      " 11  city_longitude  72013 non-null  float64       \n",
      "dtypes: datetime64[ns](1), float64(2), object(9)\n",
      "memory usage: 8.1+ MB\n"
     ]
    }
   ],
   "source": [
    "ufo = pd.read_csv(\"nuforc_reports.csv\",parse_dates=[\"date_time\"])\n",
    "ufo.info()"
   ]
  },
  {
   "cell_type": "markdown",
   "id": "f8184ef2",
   "metadata": {},
   "source": [
    "## Useful .dt properties"
   ]
  },
  {
   "cell_type": "raw",
   "id": "3ea04b44",
   "metadata": {},
   "source": [
    "There are many .dt properties.\n",
    "    > year, month, day, dayofweek, hour, minute, second etc\n",
    "    > .dt properties work with datetime type only."
   ]
  },
  {
   "cell_type": "code",
   "execution_count": 37,
   "id": "7580dae0",
   "metadata": {},
   "outputs": [
    {
     "data": {
      "text/plain": [
       "2014.0    8704\n",
       "2012.0    8124\n",
       "2013.0    7823\n",
       "2015.0    6915\n",
       "2019.0    5767\n",
       "Name: date_time, dtype: int64"
      ]
     },
     "execution_count": 37,
     "metadata": {},
     "output_type": "execute_result"
    }
   ],
   "source": [
    "ufo[\"date_time\"].dt.year.value_counts().head()"
   ]
  },
  {
   "cell_type": "code",
   "execution_count": 38,
   "id": "db50af5d",
   "metadata": {},
   "outputs": [
    {
     "data": {
      "text/plain": [
       "<Axes: >"
      ]
     },
     "execution_count": 38,
     "metadata": {},
     "output_type": "execute_result"
    },
    {
     "data": {
      "image/png": "[encoded data removed]",
      "text/plain": [
       "<Figure size 640x480 with 1 Axes>"
      ]
     },
     "metadata": {},
     "output_type": "display_data"
    }
   ],
   "source": [
    "# We an use this to plot data\n",
    "ufo[\"date_time\"].dt.hour.value_counts().plot(kind=\"bar\")"
   ]
  },
  {
   "cell_type": "markdown",
   "id": "f8c1e3c9",
   "metadata": {},
   "source": [
    "## Comparing Dates"
   ]
  },
  {
   "cell_type": "code",
   "execution_count": 40,
   "id": "824027ba",
   "metadata": {},
   "outputs": [
    {
     "data": {
      "text/plain": [
       "0         True\n",
       "1         True\n",
       "2        False\n",
       "3         True\n",
       "4         True\n",
       "         ...  \n",
       "88120     True\n",
       "88121     True\n",
       "88122     True\n",
       "88123     True\n",
       "88124     True\n",
       "Name: date_time, Length: 88125, dtype: bool"
      ]
     },
     "execution_count": 40,
     "metadata": {},
     "output_type": "execute_result"
    }
   ],
   "source": [
    "# We can filter data\n",
    "ufo[\"date_time\"] > \"1980\""
   ]
  },
  {
   "cell_type": "code",
   "execution_count": 41,
   "id": "e1c67378",
   "metadata": {},
   "outputs": [
    {
     "data": {
      "text/html": [
       "<div>\n",
       "<style scoped>\n",
       "    .dataframe tbody tr th:only-of-type {\n",
       "        vertical-align: middle;\n",
       "    }\n",
       "\n",
       "    .dataframe tbody tr th {\n",
       "        vertical-align: top;\n",
       "    }\n",
       "\n",
       "    .dataframe thead th {\n",
       "        text-align: right;\n",
       "    }\n",
       "</style>\n",
       "<table border=\"1\" class=\"dataframe\">\n",
       "  <thead>\n",
       "    <tr style=\"text-align: right;\">\n",
       "      <th></th>\n",
       "      <th>summary</th>\n",
       "      <th>city</th>\n",
       "      <th>state</th>\n",
       "      <th>date_time</th>\n",
       "      <th>shape</th>\n",
       "      <th>duration</th>\n",
       "      <th>stats</th>\n",
       "      <th>report_link</th>\n",
       "      <th>text</th>\n",
       "      <th>posted</th>\n",
       "      <th>city_latitude</th>\n",
       "      <th>city_longitude</th>\n",
       "    </tr>\n",
       "  </thead>\n",
       "  <tbody>\n",
       "    <tr>\n",
       "      <th>0</th>\n",
       "      <td>My wife was driving southeast on a fairly popu...</td>\n",
       "      <td>Chester</td>\n",
       "      <td>VA</td>\n",
       "      <td>2019-12-12 18:43:00</td>\n",
       "      <td>light</td>\n",
       "      <td>5 seconds</td>\n",
       "      <td>Occurred : 12/12/2019 18:43  (Entered as : 12/...</td>\n",
       "      <td>http://www.nuforc.org/webreports/151/S151739.html</td>\n",
       "      <td>My wife was driving southeast on a fairly popu...</td>\n",
       "      <td>2019-12-22T00:00:00</td>\n",
       "      <td>37.343152</td>\n",
       "      <td>-77.408582</td>\n",
       "    </tr>\n",
       "    <tr>\n",
       "      <th>1</th>\n",
       "      <td>I think that I may caught a UFO on the NBC Nig...</td>\n",
       "      <td>Rocky Hill</td>\n",
       "      <td>CT</td>\n",
       "      <td>2019-03-22 18:30:00</td>\n",
       "      <td>circle</td>\n",
       "      <td>3-5 seconds</td>\n",
       "      <td>Occurred : 3/22/2019 18:30  (Entered as : 03/2...</td>\n",
       "      <td>http://www.nuforc.org/webreports/145/S145297.html</td>\n",
       "      <td>I think that I may caught a UFO on the NBC Nig...</td>\n",
       "      <td>2019-03-29T00:00:00</td>\n",
       "      <td>41.664800</td>\n",
       "      <td>-72.639300</td>\n",
       "    </tr>\n",
       "    <tr>\n",
       "      <th>3</th>\n",
       "      <td>I was driving towards the intersection of fall...</td>\n",
       "      <td>Ottawa</td>\n",
       "      <td>ON</td>\n",
       "      <td>2019-04-17 02:00:00</td>\n",
       "      <td>teardrop</td>\n",
       "      <td>10 seconds</td>\n",
       "      <td>Occurred : 4/17/2019 02:00  (Entered as : 04-1...</td>\n",
       "      <td>http://www.nuforc.org/webreports/145/S145697.html</td>\n",
       "      <td>I was driving towards the intersection of fall...</td>\n",
       "      <td>2019-04-18T00:00:00</td>\n",
       "      <td>45.381383</td>\n",
       "      <td>-75.708501</td>\n",
       "    </tr>\n",
       "    <tr>\n",
       "      <th>4</th>\n",
       "      <td>In Peoria Arizona, I saw a cigar shaped craft ...</td>\n",
       "      <td>Peoria</td>\n",
       "      <td>NY</td>\n",
       "      <td>2009-03-15 18:00:00</td>\n",
       "      <td>cigar</td>\n",
       "      <td>2 minutes</td>\n",
       "      <td>Occurred : 3/15/2009 18:00  (Entered as : 03/1...</td>\n",
       "      <td>http://www.nuforc.org/webreports/145/S145723.html</td>\n",
       "      <td>In Peoria, Arizona, I saw a cigar shaped craft...</td>\n",
       "      <td>2019-04-18T00:00:00</td>\n",
       "      <td>NaN</td>\n",
       "      <td>NaN</td>\n",
       "    </tr>\n",
       "    <tr>\n",
       "      <th>5</th>\n",
       "      <td>The object has flashing lights that are green,...</td>\n",
       "      <td>Kirbyville</td>\n",
       "      <td>TX</td>\n",
       "      <td>2019-04-02 20:25:00</td>\n",
       "      <td>disk</td>\n",
       "      <td>15 minutes</td>\n",
       "      <td>Occurred : 4/2/2019 20:25  (Entered as : 04/02...</td>\n",
       "      <td>http://www.nuforc.org/webreports/145/S145476.html</td>\n",
       "      <td>The object has flashing lights that are green,...</td>\n",
       "      <td>2019-04-08T00:00:00</td>\n",
       "      <td>30.677200</td>\n",
       "      <td>-94.005200</td>\n",
       "    </tr>\n",
       "    <tr>\n",
       "      <th>...</th>\n",
       "      <td>...</td>\n",
       "      <td>...</td>\n",
       "      <td>...</td>\n",
       "      <td>...</td>\n",
       "      <td>...</td>\n",
       "      <td>...</td>\n",
       "      <td>...</td>\n",
       "      <td>...</td>\n",
       "      <td>...</td>\n",
       "      <td>...</td>\n",
       "      <td>...</td>\n",
       "      <td>...</td>\n",
       "    </tr>\n",
       "    <tr>\n",
       "      <th>88120</th>\n",
       "      <td>4 lights in formation over Tempe appear while ...</td>\n",
       "      <td>Tempe</td>\n",
       "      <td>AZ</td>\n",
       "      <td>2019-10-02 20:00:00</td>\n",
       "      <td>formation</td>\n",
       "      <td>3 minutes</td>\n",
       "      <td>Occurred : 10/2/2019 20:00  (Entered as : 10/2...</td>\n",
       "      <td>http://www.nuforc.org/webreports/149/S149463.html</td>\n",
       "      <td>4 lights in formation over Tempe appear while ...</td>\n",
       "      <td>2019-10-04T00:00:00</td>\n",
       "      <td>33.414036</td>\n",
       "      <td>-111.920920</td>\n",
       "    </tr>\n",
       "    <tr>\n",
       "      <th>88121</th>\n",
       "      <td>2 bright star like lights in the NNW skys,  ((...</td>\n",
       "      <td>Bolivar</td>\n",
       "      <td>MO</td>\n",
       "      <td>2019-10-02 20:00:00</td>\n",
       "      <td>light</td>\n",
       "      <td>20 seconds</td>\n",
       "      <td>Occurred : 10/2/2019 20:00  (Entered as : 10/0...</td>\n",
       "      <td>http://www.nuforc.org/webreports/149/S149405.html</td>\n",
       "      <td>2 bright star like lights in the NNW sky two b...</td>\n",
       "      <td>2019-10-04T00:00:00</td>\n",
       "      <td>37.642200</td>\n",
       "      <td>-93.399600</td>\n",
       "    </tr>\n",
       "    <tr>\n",
       "      <th>88122</th>\n",
       "      <td>I just witnessed a ‘Phoenix Lights’ type of fo...</td>\n",
       "      <td>North Port</td>\n",
       "      <td>FL</td>\n",
       "      <td>2019-10-02 20:03:00</td>\n",
       "      <td>formation</td>\n",
       "      <td>20 seconds</td>\n",
       "      <td>Occurred : 10/2/2019 20:03  (Entered as : 10/0...</td>\n",
       "      <td>http://www.nuforc.org/webreports/149/S149424.html</td>\n",
       "      <td>10/2/19 @ 8:03PM EST  UFO SIGHTING in the 3428...</td>\n",
       "      <td>2019-10-04T00:00:00</td>\n",
       "      <td>27.076210</td>\n",
       "      <td>-82.223280</td>\n",
       "    </tr>\n",
       "    <tr>\n",
       "      <th>88123</th>\n",
       "      <td>Witnessed an orange, slow moving light. Was lo...</td>\n",
       "      <td>Black Mountain</td>\n",
       "      <td>NC</td>\n",
       "      <td>2019-10-02 22:00:00</td>\n",
       "      <td>fireball</td>\n",
       "      <td>2 minutes</td>\n",
       "      <td>Occurred : 10/2/2019 22:00  (Entered as : 10/0...</td>\n",
       "      <td>http://www.nuforc.org/webreports/149/S149447.html</td>\n",
       "      <td>Witnessed an orange, slow moving light. Was lo...</td>\n",
       "      <td>2019-10-04T00:00:00</td>\n",
       "      <td>35.605000</td>\n",
       "      <td>-82.313200</td>\n",
       "    </tr>\n",
       "    <tr>\n",
       "      <th>88124</th>\n",
       "      <td>Glowing lights in formation  just south of San...</td>\n",
       "      <td>Marin County</td>\n",
       "      <td>CA</td>\n",
       "      <td>2019-10-02 22:00:00</td>\n",
       "      <td>sphere</td>\n",
       "      <td>3 minutes</td>\n",
       "      <td>Occurred : 10/2/2019 22:00  (Entered as : 10-0...</td>\n",
       "      <td>http://www.nuforc.org/webreports/149/S149436.html</td>\n",
       "      <td>Glowing lights in formation  just south of San...</td>\n",
       "      <td>2019-10-04T00:00:00</td>\n",
       "      <td>NaN</td>\n",
       "      <td>NaN</td>\n",
       "    </tr>\n",
       "  </tbody>\n",
       "</table>\n",
       "<p>85439 rows × 12 columns</p>\n",
       "</div>"
      ],
      "text/plain": [
       "                                                 summary            city  \\\n",
       "0      My wife was driving southeast on a fairly popu...         Chester   \n",
       "1      I think that I may caught a UFO on the NBC Nig...      Rocky Hill   \n",
       "3      I was driving towards the intersection of fall...          Ottawa   \n",
       "4      In Peoria Arizona, I saw a cigar shaped craft ...          Peoria   \n",
       "5      The object has flashing lights that are green,...      Kirbyville   \n",
       "...                                                  ...             ...   \n",
       "88120  4 lights in formation over Tempe appear while ...           Tempe   \n",
       "88121  2 bright star like lights in the NNW skys,  ((...         Bolivar   \n",
       "88122  I just witnessed a ‘Phoenix Lights’ type of fo...      North Port   \n",
       "88123  Witnessed an orange, slow moving light. Was lo...  Black Mountain   \n",
       "88124  Glowing lights in formation  just south of San...    Marin County   \n",
       "\n",
       "      state           date_time      shape     duration  \\\n",
       "0        VA 2019-12-12 18:43:00      light    5 seconds   \n",
       "1        CT 2019-03-22 18:30:00     circle  3-5 seconds   \n",
       "3        ON 2019-04-17 02:00:00   teardrop   10 seconds   \n",
       "4        NY 2009-03-15 18:00:00      cigar    2 minutes   \n",
       "5        TX 2019-04-02 20:25:00       disk   15 minutes   \n",
       "...     ...                 ...        ...          ...   \n",
       "88120    AZ 2019-10-02 20:00:00  formation    3 minutes   \n",
       "88121    MO 2019-10-02 20:00:00      light   20 seconds   \n",
       "88122    FL 2019-10-02 20:03:00  formation   20 seconds   \n",
       "88123    NC 2019-10-02 22:00:00   fireball    2 minutes   \n",
       "88124    CA 2019-10-02 22:00:00     sphere    3 minutes   \n",
       "\n",
       "                                                   stats  \\\n",
       "0      Occurred : 12/12/2019 18:43  (Entered as : 12/...   \n",
       "1      Occurred : 3/22/2019 18:30  (Entered as : 03/2...   \n",
       "3      Occurred : 4/17/2019 02:00  (Entered as : 04-1...   \n",
       "4      Occurred : 3/15/2009 18:00  (Entered as : 03/1...   \n",
       "5      Occurred : 4/2/2019 20:25  (Entered as : 04/02...   \n",
       "...                                                  ...   \n",
       "88120  Occurred : 10/2/2019 20:00  (Entered as : 10/2...   \n",
       "88121  Occurred : 10/2/2019 20:00  (Entered as : 10/0...   \n",
       "88122  Occurred : 10/2/2019 20:03  (Entered as : 10/0...   \n",
       "88123  Occurred : 10/2/2019 22:00  (Entered as : 10/0...   \n",
       "88124  Occurred : 10/2/2019 22:00  (Entered as : 10-0...   \n",
       "\n",
       "                                             report_link  \\\n",
       "0      http://www.nuforc.org/webreports/151/S151739.html   \n",
       "1      http://www.nuforc.org/webreports/145/S145297.html   \n",
       "3      http://www.nuforc.org/webreports/145/S145697.html   \n",
       "4      http://www.nuforc.org/webreports/145/S145723.html   \n",
       "5      http://www.nuforc.org/webreports/145/S145476.html   \n",
       "...                                                  ...   \n",
       "88120  http://www.nuforc.org/webreports/149/S149463.html   \n",
       "88121  http://www.nuforc.org/webreports/149/S149405.html   \n",
       "88122  http://www.nuforc.org/webreports/149/S149424.html   \n",
       "88123  http://www.nuforc.org/webreports/149/S149447.html   \n",
       "88124  http://www.nuforc.org/webreports/149/S149436.html   \n",
       "\n",
       "                                                    text               posted  \\\n",
       "0      My wife was driving southeast on a fairly popu...  2019-12-22T00:00:00   \n",
       "1      I think that I may caught a UFO on the NBC Nig...  2019-03-29T00:00:00   \n",
       "3      I was driving towards the intersection of fall...  2019-04-18T00:00:00   \n",
       "4      In Peoria, Arizona, I saw a cigar shaped craft...  2019-04-18T00:00:00   \n",
       "5      The object has flashing lights that are green,...  2019-04-08T00:00:00   \n",
       "...                                                  ...                  ...   \n",
       "88120  4 lights in formation over Tempe appear while ...  2019-10-04T00:00:00   \n",
       "88121  2 bright star like lights in the NNW sky two b...  2019-10-04T00:00:00   \n",
       "88122  10/2/19 @ 8:03PM EST  UFO SIGHTING in the 3428...  2019-10-04T00:00:00   \n",
       "88123  Witnessed an orange, slow moving light. Was lo...  2019-10-04T00:00:00   \n",
       "88124  Glowing lights in formation  just south of San...  2019-10-04T00:00:00   \n",
       "\n",
       "       city_latitude  city_longitude  \n",
       "0          37.343152      -77.408582  \n",
       "1          41.664800      -72.639300  \n",
       "3          45.381383      -75.708501  \n",
       "4                NaN             NaN  \n",
       "5          30.677200      -94.005200  \n",
       "...              ...             ...  \n",
       "88120      33.414036     -111.920920  \n",
       "88121      37.642200      -93.399600  \n",
       "88122      27.076210      -82.223280  \n",
       "88123      35.605000      -82.313200  \n",
       "88124            NaN             NaN  \n",
       "\n",
       "[85439 rows x 12 columns]"
      ]
     },
     "execution_count": 41,
     "metadata": {},
     "output_type": "execute_result"
    }
   ],
   "source": [
    "# Then print the filtered dataframe\n",
    "ufo[ufo[\"date_time\"] > \"1980\"]"
   ]
  },
  {
   "cell_type": "markdown",
   "id": "f41cc9dd",
   "metadata": {},
   "source": [
    "## Filter dates between"
   ]
  },
  {
   "cell_type": "code",
   "execution_count": 42,
   "id": "e8ad6a9c",
   "metadata": {},
   "outputs": [
    {
     "data": {
      "text/plain": [
       "0        False\n",
       "58628    False\n",
       "58627    False\n",
       "58626    False\n",
       "58625    False\n",
       "         ...  \n",
       "8456      True\n",
       "8457      True\n",
       "84612     True\n",
       "8451      True\n",
       "49385     True\n",
       "Name: date_time, Length: 88125, dtype: bool"
      ]
     },
     "execution_count": 42,
     "metadata": {},
     "output_type": "execute_result"
    }
   ],
   "source": [
    "ufo[\"date_time\"].between(\"1990\",\"1998\").sort_values()\n",
    "# This prints data from 1990 but not 1991, it's exclusive"
   ]
  },
  {
   "cell_type": "markdown",
   "id": "bcec904f",
   "metadata": {},
   "source": [
    "## Date Math and Time Delta"
   ]
  },
  {
   "cell_type": "code",
   "execution_count": 45,
   "id": "6016a42e",
   "metadata": {},
   "outputs": [],
   "source": [
    "ufo[\"posted\"] = pd.to_datetime(ufo[\"posted\"])"
   ]
  },
  {
   "cell_type": "code",
   "execution_count": 46,
   "id": "c943d4a6",
   "metadata": {},
   "outputs": [
    {
     "name": "stdout",
     "output_type": "stream",
     "text": [
      "<class 'pandas.core.frame.DataFrame'>\n",
      "RangeIndex: 88125 entries, 0 to 88124\n",
      "Data columns (total 12 columns):\n",
      " #   Column          Non-Null Count  Dtype         \n",
      "---  ------          --------------  -----         \n",
      " 0   summary         88095 non-null  object        \n",
      " 1   city            87891 non-null  object        \n",
      " 2   state           82890 non-null  object        \n",
      " 3   date_time       86938 non-null  datetime64[ns]\n",
      " 4   shape           85627 non-null  object        \n",
      " 5   duration        84954 non-null  object        \n",
      " 6   stats           88088 non-null  object        \n",
      " 7   report_link     88125 non-null  object        \n",
      " 8   text            88070 non-null  object        \n",
      " 9   posted          86938 non-null  datetime64[ns]\n",
      " 10  city_latitude   72013 non-null  float64       \n",
      " 11  city_longitude  72013 non-null  float64       \n",
      "dtypes: datetime64[ns](2), float64(2), object(8)\n",
      "memory usage: 8.1+ MB\n"
     ]
    }
   ],
   "source": [
    "ufo.info()"
   ]
  },
  {
   "cell_type": "code",
   "execution_count": 47,
   "id": "7a6215de",
   "metadata": {},
   "outputs": [],
   "source": [
    "# timedelta is a datatype that is the result of the two time differences.\n",
    "ufo[\"reporting_time_diff\"] = ufo[\"posted\"] - ufo[\"date_time\"]"
   ]
  },
  {
   "cell_type": "code",
   "execution_count": 48,
   "id": "4761e67a",
   "metadata": {},
   "outputs": [
    {
     "data": {
      "text/html": [
       "<div>\n",
       "<style scoped>\n",
       "    .dataframe tbody tr th:only-of-type {\n",
       "        vertical-align: middle;\n",
       "    }\n",
       "\n",
       "    .dataframe tbody tr th {\n",
       "        vertical-align: top;\n",
       "    }\n",
       "\n",
       "    .dataframe thead th {\n",
       "        text-align: right;\n",
       "    }\n",
       "</style>\n",
       "<table border=\"1\" class=\"dataframe\">\n",
       "  <thead>\n",
       "    <tr style=\"text-align: right;\">\n",
       "      <th></th>\n",
       "      <th>summary</th>\n",
       "      <th>city</th>\n",
       "      <th>state</th>\n",
       "      <th>date_time</th>\n",
       "      <th>shape</th>\n",
       "      <th>duration</th>\n",
       "      <th>stats</th>\n",
       "      <th>report_link</th>\n",
       "      <th>text</th>\n",
       "      <th>posted</th>\n",
       "      <th>city_latitude</th>\n",
       "      <th>city_longitude</th>\n",
       "      <th>reporting_time_diff</th>\n",
       "    </tr>\n",
       "  </thead>\n",
       "  <tbody>\n",
       "    <tr>\n",
       "      <th>0</th>\n",
       "      <td>My wife was driving southeast on a fairly popu...</td>\n",
       "      <td>Chester</td>\n",
       "      <td>VA</td>\n",
       "      <td>2019-12-12 18:43:00</td>\n",
       "      <td>light</td>\n",
       "      <td>5 seconds</td>\n",
       "      <td>Occurred : 12/12/2019 18:43  (Entered as : 12/...</td>\n",
       "      <td>http://www.nuforc.org/webreports/151/S151739.html</td>\n",
       "      <td>My wife was driving southeast on a fairly popu...</td>\n",
       "      <td>2019-12-22</td>\n",
       "      <td>37.343152</td>\n",
       "      <td>-77.408582</td>\n",
       "      <td>9 days 05:17:00</td>\n",
       "    </tr>\n",
       "    <tr>\n",
       "      <th>1</th>\n",
       "      <td>I think that I may caught a UFO on the NBC Nig...</td>\n",
       "      <td>Rocky Hill</td>\n",
       "      <td>CT</td>\n",
       "      <td>2019-03-22 18:30:00</td>\n",
       "      <td>circle</td>\n",
       "      <td>3-5 seconds</td>\n",
       "      <td>Occurred : 3/22/2019 18:30  (Entered as : 03/2...</td>\n",
       "      <td>http://www.nuforc.org/webreports/145/S145297.html</td>\n",
       "      <td>I think that I may caught a UFO on the NBC Nig...</td>\n",
       "      <td>2019-03-29</td>\n",
       "      <td>41.664800</td>\n",
       "      <td>-72.639300</td>\n",
       "      <td>6 days 05:30:00</td>\n",
       "    </tr>\n",
       "    <tr>\n",
       "      <th>2</th>\n",
       "      <td>I woke up late in the afternoon 3:30-4pm. I we...</td>\n",
       "      <td>NaN</td>\n",
       "      <td>NaN</td>\n",
       "      <td>NaT</td>\n",
       "      <td>NaN</td>\n",
       "      <td>NaN</td>\n",
       "      <td>Occurred : 4/1/2019 15:45  (Entered as : April...</td>\n",
       "      <td>http://www.nuforc.org/webreports/145/S145556.html</td>\n",
       "      <td>I woke up late in the afternoon 3:30-4pm.  I w...</td>\n",
       "      <td>NaT</td>\n",
       "      <td>NaN</td>\n",
       "      <td>NaN</td>\n",
       "      <td>NaT</td>\n",
       "    </tr>\n",
       "    <tr>\n",
       "      <th>3</th>\n",
       "      <td>I was driving towards the intersection of fall...</td>\n",
       "      <td>Ottawa</td>\n",
       "      <td>ON</td>\n",
       "      <td>2019-04-17 02:00:00</td>\n",
       "      <td>teardrop</td>\n",
       "      <td>10 seconds</td>\n",
       "      <td>Occurred : 4/17/2019 02:00  (Entered as : 04-1...</td>\n",
       "      <td>http://www.nuforc.org/webreports/145/S145697.html</td>\n",
       "      <td>I was driving towards the intersection of fall...</td>\n",
       "      <td>2019-04-18</td>\n",
       "      <td>45.381383</td>\n",
       "      <td>-75.708501</td>\n",
       "      <td>0 days 22:00:00</td>\n",
       "    </tr>\n",
       "    <tr>\n",
       "      <th>4</th>\n",
       "      <td>In Peoria Arizona, I saw a cigar shaped craft ...</td>\n",
       "      <td>Peoria</td>\n",
       "      <td>NY</td>\n",
       "      <td>2009-03-15 18:00:00</td>\n",
       "      <td>cigar</td>\n",
       "      <td>2 minutes</td>\n",
       "      <td>Occurred : 3/15/2009 18:00  (Entered as : 03/1...</td>\n",
       "      <td>http://www.nuforc.org/webreports/145/S145723.html</td>\n",
       "      <td>In Peoria, Arizona, I saw a cigar shaped craft...</td>\n",
       "      <td>2019-04-18</td>\n",
       "      <td>NaN</td>\n",
       "      <td>NaN</td>\n",
       "      <td>3685 days 06:00:00</td>\n",
       "    </tr>\n",
       "  </tbody>\n",
       "</table>\n",
       "</div>"
      ],
      "text/plain": [
       "                                             summary        city state  \\\n",
       "0  My wife was driving southeast on a fairly popu...     Chester    VA   \n",
       "1  I think that I may caught a UFO on the NBC Nig...  Rocky Hill    CT   \n",
       "2  I woke up late in the afternoon 3:30-4pm. I we...         NaN   NaN   \n",
       "3  I was driving towards the intersection of fall...      Ottawa    ON   \n",
       "4  In Peoria Arizona, I saw a cigar shaped craft ...      Peoria    NY   \n",
       "\n",
       "            date_time     shape     duration  \\\n",
       "0 2019-12-12 18:43:00     light    5 seconds   \n",
       "1 2019-03-22 18:30:00    circle  3-5 seconds   \n",
       "2                 NaT       NaN          NaN   \n",
       "3 2019-04-17 02:00:00  teardrop   10 seconds   \n",
       "4 2009-03-15 18:00:00     cigar    2 minutes   \n",
       "\n",
       "                                               stats  \\\n",
       "0  Occurred : 12/12/2019 18:43  (Entered as : 12/...   \n",
       "1  Occurred : 3/22/2019 18:30  (Entered as : 03/2...   \n",
       "2  Occurred : 4/1/2019 15:45  (Entered as : April...   \n",
       "3  Occurred : 4/17/2019 02:00  (Entered as : 04-1...   \n",
       "4  Occurred : 3/15/2009 18:00  (Entered as : 03/1...   \n",
       "\n",
       "                                         report_link  \\\n",
       "0  http://www.nuforc.org/webreports/151/S151739.html   \n",
       "1  http://www.nuforc.org/webreports/145/S145297.html   \n",
       "2  http://www.nuforc.org/webreports/145/S145556.html   \n",
       "3  http://www.nuforc.org/webreports/145/S145697.html   \n",
       "4  http://www.nuforc.org/webreports/145/S145723.html   \n",
       "\n",
       "                                                text     posted  \\\n",
       "0  My wife was driving southeast on a fairly popu... 2019-12-22   \n",
       "1  I think that I may caught a UFO on the NBC Nig... 2019-03-29   \n",
       "2  I woke up late in the afternoon 3:30-4pm.  I w...        NaT   \n",
       "3  I was driving towards the intersection of fall... 2019-04-18   \n",
       "4  In Peoria, Arizona, I saw a cigar shaped craft... 2019-04-18   \n",
       "\n",
       "   city_latitude  city_longitude reporting_time_diff  \n",
       "0      37.343152      -77.408582     9 days 05:17:00  \n",
       "1      41.664800      -72.639300     6 days 05:30:00  \n",
       "2            NaN             NaN                 NaT  \n",
       "3      45.381383      -75.708501     0 days 22:00:00  \n",
       "4            NaN             NaN  3685 days 06:00:00  "
      ]
     },
     "execution_count": 48,
     "metadata": {},
     "output_type": "execute_result"
    }
   ],
   "source": [
    "ufo.head()"
   ]
  },
  {
   "cell_type": "markdown",
   "id": "338abf2c",
   "metadata": {},
   "source": [
    "Q.Calculate longest time interval (years) b/w seeing and reporting"
   ]
  },
  {
   "cell_type": "code",
   "execution_count": 51,
   "id": "6e45a9d5",
   "metadata": {},
   "outputs": [
    {
     "data": {
      "text/html": [
       "<div>\n",
       "<style scoped>\n",
       "    .dataframe tbody tr th:only-of-type {\n",
       "        vertical-align: middle;\n",
       "    }\n",
       "\n",
       "    .dataframe tbody tr th {\n",
       "        vertical-align: top;\n",
       "    }\n",
       "\n",
       "    .dataframe thead th {\n",
       "        text-align: right;\n",
       "    }\n",
       "</style>\n",
       "<table border=\"1\" class=\"dataframe\">\n",
       "  <thead>\n",
       "    <tr style=\"text-align: right;\">\n",
       "      <th></th>\n",
       "      <th>summary</th>\n",
       "      <th>city</th>\n",
       "      <th>state</th>\n",
       "      <th>date_time</th>\n",
       "      <th>shape</th>\n",
       "      <th>duration</th>\n",
       "      <th>stats</th>\n",
       "      <th>report_link</th>\n",
       "      <th>text</th>\n",
       "      <th>posted</th>\n",
       "      <th>city_latitude</th>\n",
       "      <th>city_longitude</th>\n",
       "      <th>reporting_time_diff</th>\n",
       "    </tr>\n",
       "  </thead>\n",
       "  <tbody>\n",
       "    <tr>\n",
       "      <th>86762</th>\n",
       "      <td>An incomplete report given on behalf of anothe...</td>\n",
       "      <td>El Paso</td>\n",
       "      <td>TX</td>\n",
       "      <td>1969-06-01 00:00:00</td>\n",
       "      <td>other</td>\n",
       "      <td>3 minutes</td>\n",
       "      <td>Occurred : 6/1/1969 00:00  (Entered as : 1969 ...</td>\n",
       "      <td>http://www.nuforc.org/webreports/151/S151313.html</td>\n",
       "      <td>An incomplete report given on behalf of anothe...</td>\n",
       "      <td>2019-12-19</td>\n",
       "      <td>31.792328</td>\n",
       "      <td>-106.374849</td>\n",
       "      <td>18463 days 00:00:00</td>\n",
       "    </tr>\n",
       "    <tr>\n",
       "      <th>87145</th>\n",
       "      <td>Strange globe sighting--1969.</td>\n",
       "      <td>Philadelphia</td>\n",
       "      <td>PA</td>\n",
       "      <td>1969-07-04 01:30:00</td>\n",
       "      <td>sphere</td>\n",
       "      <td>20 minutes</td>\n",
       "      <td>Occurred : 7/4/1969 01:30  (Entered as : 07/04...</td>\n",
       "      <td>http://www.nuforc.org/webreports/149/S149273.html</td>\n",
       "      <td>Strange globe sighting--1969. Thank you for al...</td>\n",
       "      <td>2019-10-04</td>\n",
       "      <td>39.990635</td>\n",
       "      <td>-75.145801</td>\n",
       "      <td>18353 days 22:30:00</td>\n",
       "    </tr>\n",
       "    <tr>\n",
       "      <th>721</th>\n",
       "      <td>It was July 1969 on a clear summer evening in ...</td>\n",
       "      <td>New Castle</td>\n",
       "      <td>PA</td>\n",
       "      <td>1969-07-01 21:00:00</td>\n",
       "      <td>disk</td>\n",
       "      <td>45 seconds</td>\n",
       "      <td>Occurred : 7/1/1969 21:00  (Entered as : July ...</td>\n",
       "      <td>http://www.nuforc.org/webreports/147/S147922.html</td>\n",
       "      <td>It was July 1969 on a clear summer evening in ...</td>\n",
       "      <td>2019-08-23</td>\n",
       "      <td>41.001224</td>\n",
       "      <td>-80.319468</td>\n",
       "      <td>18314 days 03:00:00</td>\n",
       "    </tr>\n",
       "    <tr>\n",
       "      <th>1576</th>\n",
       "      <td>1969 olive branch Mississippi large round ligh...</td>\n",
       "      <td>Olive Branch</td>\n",
       "      <td>MS</td>\n",
       "      <td>1969-06-30 00:00:00</td>\n",
       "      <td>light</td>\n",
       "      <td>5 minutes</td>\n",
       "      <td>Occurred : 5/30/1969 20:30  (Entered as : Summ...</td>\n",
       "      <td>http://www.nuforc.org/webreports/147/S147576.html</td>\n",
       "      <td>1969 olive branch Mississippi large round ligh...</td>\n",
       "      <td>2019-07-25</td>\n",
       "      <td>34.918000</td>\n",
       "      <td>-89.821600</td>\n",
       "      <td>18287 days 00:00:00</td>\n",
       "    </tr>\n",
       "    <tr>\n",
       "      <th>1580</th>\n",
       "      <td>Six bright lights in &amp;quot;V&amp;quot; formation s...</td>\n",
       "      <td>Westport</td>\n",
       "      <td>MA</td>\n",
       "      <td>1969-08-15 16:00:00</td>\n",
       "      <td>formation</td>\n",
       "      <td>8-10 secs</td>\n",
       "      <td>Occurred : 8/15/1969 16:00  (Entered as : 08/1...</td>\n",
       "      <td>http://www.nuforc.org/webreports/147/S147589.html</td>\n",
       "      <td>Six bright lights in &amp;quot;V&amp;quot; formation s...</td>\n",
       "      <td>2019-07-25</td>\n",
       "      <td>NaN</td>\n",
       "      <td>NaN</td>\n",
       "      <td>18240 days 08:00:00</td>\n",
       "    </tr>\n",
       "  </tbody>\n",
       "</table>\n",
       "</div>"
      ],
      "text/plain": [
       "                                                 summary          city state  \\\n",
       "86762  An incomplete report given on behalf of anothe...       El Paso    TX   \n",
       "87145                      Strange globe sighting--1969.  Philadelphia    PA   \n",
       "721    It was July 1969 on a clear summer evening in ...    New Castle    PA   \n",
       "1576   1969 olive branch Mississippi large round ligh...  Olive Branch    MS   \n",
       "1580   Six bright lights in &quot;V&quot; formation s...      Westport    MA   \n",
       "\n",
       "                date_time      shape    duration  \\\n",
       "86762 1969-06-01 00:00:00      other   3 minutes   \n",
       "87145 1969-07-04 01:30:00     sphere  20 minutes   \n",
       "721   1969-07-01 21:00:00       disk  45 seconds   \n",
       "1576  1969-06-30 00:00:00      light   5 minutes   \n",
       "1580  1969-08-15 16:00:00  formation   8-10 secs   \n",
       "\n",
       "                                                   stats  \\\n",
       "86762  Occurred : 6/1/1969 00:00  (Entered as : 1969 ...   \n",
       "87145  Occurred : 7/4/1969 01:30  (Entered as : 07/04...   \n",
       "721    Occurred : 7/1/1969 21:00  (Entered as : July ...   \n",
       "1576   Occurred : 5/30/1969 20:30  (Entered as : Summ...   \n",
       "1580   Occurred : 8/15/1969 16:00  (Entered as : 08/1...   \n",
       "\n",
       "                                             report_link  \\\n",
       "86762  http://www.nuforc.org/webreports/151/S151313.html   \n",
       "87145  http://www.nuforc.org/webreports/149/S149273.html   \n",
       "721    http://www.nuforc.org/webreports/147/S147922.html   \n",
       "1576   http://www.nuforc.org/webreports/147/S147576.html   \n",
       "1580   http://www.nuforc.org/webreports/147/S147589.html   \n",
       "\n",
       "                                                    text     posted  \\\n",
       "86762  An incomplete report given on behalf of anothe... 2019-12-19   \n",
       "87145  Strange globe sighting--1969. Thank you for al... 2019-10-04   \n",
       "721    It was July 1969 on a clear summer evening in ... 2019-08-23   \n",
       "1576   1969 olive branch Mississippi large round ligh... 2019-07-25   \n",
       "1580   Six bright lights in &quot;V&quot; formation s... 2019-07-25   \n",
       "\n",
       "       city_latitude  city_longitude reporting_time_diff  \n",
       "86762      31.792328     -106.374849 18463 days 00:00:00  \n",
       "87145      39.990635      -75.145801 18353 days 22:30:00  \n",
       "721        41.001224      -80.319468 18314 days 03:00:00  \n",
       "1576       34.918000      -89.821600 18287 days 00:00:00  \n",
       "1580             NaN             NaN 18240 days 08:00:00  "
      ]
     },
     "execution_count": 51,
     "metadata": {},
     "output_type": "execute_result"
    }
   ],
   "source": [
    "longest_wait = ufo.sort_values(\"reporting_time_diff\",ascending=False).head()\n",
    "longest_wait"
   ]
  },
  {
   "cell_type": "code",
   "execution_count": 52,
   "id": "8baac9d8",
   "metadata": {},
   "outputs": [
    {
     "data": {
      "text/plain": [
       "86762    50.583562\n",
       "87145    50.282192\n",
       "721      50.175342\n",
       "1576     50.101370\n",
       "1580     49.972603\n",
       "Name: reporting_time_diff, dtype: float64"
      ]
     },
     "execution_count": 52,
     "metadata": {},
     "output_type": "execute_result"
    }
   ],
   "source": [
    "longest_wait[\"reporting_time_diff\"].dt.days/365"
   ]
  }
 ],
 "metadata": {
  "kernelspec": {
   "display_name": "Python 3 (ipykernel)",
   "language": "python",
   "name": "python3"
  },
  "language_info": {
   "codemirror_mode": {
    "name": "ipython",
    "version": 3
   },
   "file_extension": ".py",
   "mimetype": "text/x-python",
   "name": "python",
   "nbconvert_exporter": "python",
   "pygments_lexer": "ipython3",
   "version": "3.10.9"
  }
 },
 "nbformat": 4,
 "nbformat_minor": 5
}
